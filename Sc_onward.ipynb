{
 "cells": [
  {
   "cell_type": "markdown",
   "id": "7b530c5f",
   "metadata": {},
   "source": [
    "### Set up dfs"
   ]
  },
  {
   "cell_type": "markdown",
   "id": "355d8013",
   "metadata": {},
   "source": [
    "select createdat, deletedat, requestid, tsstart, type from calendar_event\n",
    " where createdat > '2025-03-01'\n",
    "and type <> 'VACATION'\n",
    "\n",
    "\n"
   ]
  },
  {
   "cell_type": "code",
   "execution_count": 17,
   "id": "6d3d453d",
   "metadata": {},
   "outputs": [],
   "source": [
    "\n",
    "import pandas as pd\n",
    "import numpy as np\n",
    "\n",
    "file_path = r\"C:\\Users\\ElifYilmaz\\Downloads\\project 2.0.csv\"\n",
    "\n",
    "df = pd.read_csv(file_path)\n",
    "df.columns = df.columns.str.lower()\n"
   ]
  },
  {
   "cell_type": "markdown",
   "id": "4a5248b4",
   "metadata": {},
   "source": [
    "slider info select r.id as requestid, \n",
    "--l.id as leadid, \n",
    "zipregion, r.evaluationtime, r.desiredinstallationend, electricitybill, heatingbill l.mktgparamscore, a.netcontractsigned,  selfipaimportedat  -- for the two column that are present both in request and lead; request is more filled\n",
    "from  request r left join lead l on l.id = r.leadid left join airtable_contracts a on a.requestid = r.id\n",
    "-----NO TIME CONSTRAINT ON THIS ----- where r.createdat_date > '2025-03-01'\n"
   ]
  },
  {
   "cell_type": "code",
   "execution_count": 18,
   "id": "e4c212f6",
   "metadata": {},
   "outputs": [],
   "source": [
    "\n",
    "\n",
    "file2 = r\"C:\\Users\\ElifYilmaz\\Downloads\\info client.csv\"\n",
    "\n",
    "df2 = pd.read_csv(file2)\n",
    "df2.columns = df2.columns.str.lower()\n",
    "\n"
   ]
  },
  {
   "cell_type": "markdown",
   "id": "a0470f54",
   "metadata": {},
   "source": [
    "### Create derived DF"
   ]
  },
  {
   "cell_type": "code",
   "execution_count": 19,
   "id": "675983c8",
   "metadata": {},
   "outputs": [],
   "source": [
    "# Create the type mapping\n",
    "type_mapping = {\n",
    "    'FU': 'FU',\n",
    "    'FUVD': 'FU', \n",
    "    'REMINDER': 'FU',\n",
    "    'VDFIELD': 'SC',\n",
    "    'VD': 'SC'\n",
    "}\n",
    "\n",
    "# Create grouped_type column\n",
    "df['grouped_type'] = df['type'].map(type_mapping)"
   ]
  },
  {
   "cell_type": "code",
   "execution_count": 20,
   "id": "362896ac",
   "metadata": {},
   "outputs": [],
   "source": [
    "# Create condition for net events (not cancelled and past)\n",
    "df['is_net_event'] = df['deletedat'].isna() & df['is_passed']"
   ]
  },
  {
   "cell_type": "code",
   "execution_count": 22,
   "id": "0ee4d41f",
   "metadata": {},
   "outputs": [],
   "source": [
    "# Gross counts (all events)\n",
    "gross_counts = df.groupby(['requestid', 'grouped_type']).size().unstack(fill_value=0)\n",
    "gross_counts.columns = [f'gross_{col}' for col in gross_counts.columns]\n",
    "\n",
    "# Net counts (only events that actually happened)\n",
    "net_counts = df[df['is_net_event']].groupby(['requestid', 'grouped_type']).size().unstack(fill_value=0)\n",
    "net_counts.columns = [f'net_{col}' for col in net_counts.columns]"
   ]
  },
  {
   "cell_type": "code",
   "execution_count": 23,
   "id": "68e34576",
   "metadata": {},
   "outputs": [],
   "source": [
    "# Combine gross and net counts\n",
    "counts_df = gross_counts.join(net_counts, how='outer').fillna(0)"
   ]
  },
  {
   "cell_type": "code",
   "execution_count": 24,
   "id": "9c0a595b",
   "metadata": {},
   "outputs": [],
   "source": [
    "df2['selfipa_done'] = df2['selfipaimportedat'].notnull().astype(int)\n",
    "df2.drop('selfipaimportedat', axis=1, inplace=True) "
   ]
  },
  {
   "cell_type": "code",
   "execution_count": 25,
   "id": "65858705",
   "metadata": {},
   "outputs": [],
   "source": [
    "# Step 1: Convert createdat to datetime\n",
    "df['createdat'] = pd.to_datetime(df['createdat'])\n",
    "\n",
    "# Step 2: Get first gross SC and first net FU timestamps\n",
    "first_gross_sc = df[df['grouped_type'] == 'SC'].groupby('requestid')['createdat'].min()\n",
    "first_net_fu = df[(df['grouped_type'] == 'FU') & df['is_net_event']].groupby('requestid')['createdat'].min()\n",
    "\n",
    "# Step 3: Calculate time difference in hours\n",
    "counts_df['time_first_sc_to_first_net_fu'] = (first_net_fu - first_gross_sc).dt.total_seconds() / 3600"
   ]
  },
  {
   "cell_type": "code",
   "execution_count": 26,
   "id": "3dbab012",
   "metadata": {},
   "outputs": [
    {
     "name": "stdout",
     "output_type": "stream",
     "text": [
      "Final dataset info:\n",
      "Shape: (24141, 5)\n",
      "No missing values: True\n"
     ]
    }
   ],
   "source": [
    "# Fix the pandas warning by using proper assignment\n",
    "counts_df['time_first_sc_to_first_net_fu'] = counts_df['time_first_sc_to_first_net_fu'].fillna(-1)\n",
    "\n",
    "# Check final dataset\n",
    "print(\"Final dataset info:\")\n",
    "print(f\"Shape: {counts_df.shape}\")\n",
    "print(f\"No missing values: {counts_df.isnull().sum().sum() == 0}\")"
   ]
  },
  {
   "cell_type": "code",
   "execution_count": 27,
   "id": "1ad96f04",
   "metadata": {},
   "outputs": [
    {
     "data": {
      "text/plain": [
       "gross_SC\n",
       "1     15250\n",
       "2      3013\n",
       "3       700\n",
       "4       198\n",
       "5        48\n",
       "6        12\n",
       "7         6\n",
       "10        2\n",
       "23        1\n",
       "8         1\n",
       "Name: count, dtype: int64"
      ]
     },
     "execution_count": 27,
     "metadata": {},
     "output_type": "execute_result"
    }
   ],
   "source": [
    "# drop older requests that havent had a sc since march\n",
    "counts_df = counts_df[counts_df['gross_SC'] != 0]\n",
    "counts_df['gross_SC'].value_counts() "
   ]
  },
  {
   "cell_type": "code",
   "execution_count": 28,
   "id": "8ed9a76f",
   "metadata": {},
   "outputs": [
    {
     "name": "stdout",
     "output_type": "stream",
     "text": [
      "Actual negative time differences (not NaN fills): 22\n",
      "Positive time differences: 7351\n",
      "NaN fills (-1): 11858\n",
      "\n",
      "Real negative values range: -4146.53 to -22.24 hours\n"
     ]
    }
   ],
   "source": [
    "# Separate real negative times from NaN fill values\n",
    "real_negative = counts_df[\n",
    "    (counts_df['time_first_sc_to_first_net_fu'] < 0) & \n",
    "    (counts_df['time_first_sc_to_first_net_fu'] != -1)\n",
    "]\n",
    "\n",
    "actual_valid_times = counts_df[counts_df['time_first_sc_to_first_net_fu'] >= 0]\n",
    "\n",
    "print(f\"Actual negative time differences (not NaN fills): {len(real_negative)}\")\n",
    "print(f\"Positive time differences: {len(actual_valid_times)}\")\n",
    "print(f\"NaN fills (-1): {(counts_df['time_first_sc_to_first_net_fu'] == -1).sum()}\")\n",
    "\n",
    "if len(real_negative) > 0:\n",
    "    print(f\"\\nReal negative values range: {real_negative['time_first_sc_to_first_net_fu'].min():.2f} to {real_negative['time_first_sc_to_first_net_fu'].max():.2f} hours\")"
   ]
  },
  {
   "cell_type": "code",
   "execution_count": 29,
   "id": "7ce8eab6",
   "metadata": {},
   "outputs": [],
   "source": [
    "#handle negative time difference\n",
    "# Option 1: Remove outliers entirely (set to NaN, then fill with -1)\n",
    "counts_df.loc[counts_df['time_first_sc_to_first_net_fu'] < -1, 'time_first_sc_to_first_net_fu'] = -1\n"
   ]
  },
  {
   "cell_type": "code",
   "execution_count": 30,
   "id": "914ebe7b",
   "metadata": {},
   "outputs": [
    {
     "name": "stdout",
     "output_type": "stream",
     "text": [
      "After removing outliers:\n",
      "Negative values (excluding -1 fills): 0\n",
      "Valid positive time differences: 7351\n",
      "NaN fills (-1): 11880\n",
      "\n",
      "Final dataset shape: (19231, 5)\n",
      "Ready to join with target variable!\n"
     ]
    }
   ],
   "source": [
    "# Verify the cleanup\n",
    "print(\"After removing outliers:\")\n",
    "print(f\"Negative values (excluding -1 fills): {((counts_df['time_first_sc_to_first_net_fu'] < 0) & (counts_df['time_first_sc_to_first_net_fu'] != -1)).sum()}\")\n",
    "print(f\"Valid positive time differences: {(counts_df['time_first_sc_to_first_net_fu'] > 0).sum()}\")\n",
    "print(f\"NaN fills (-1): {(counts_df['time_first_sc_to_first_net_fu'] == -1).sum()}\")\n",
    "\n",
    "# Final dataset summary\n",
    "print(f\"\\nFinal dataset shape: {counts_df.shape}\")\n",
    "print(\"Ready to join with target variable!\")"
   ]
  },
  {
   "cell_type": "code",
   "execution_count": 31,
   "id": "e0192fce",
   "metadata": {},
   "outputs": [
    {
     "name": "stdout",
     "output_type": "stream",
     "text": [
      "<class 'pandas.core.frame.DataFrame'>\n",
      "Index: 19231 entries, 2039 to 128394\n",
      "Data columns (total 5 columns):\n",
      " #   Column                         Non-Null Count  Dtype  \n",
      "---  ------                         --------------  -----  \n",
      " 0   gross_FU                       19231 non-null  int64  \n",
      " 1   gross_SC                       19231 non-null  int64  \n",
      " 2   net_FU                         19231 non-null  float64\n",
      " 3   net_SC                         19231 non-null  float64\n",
      " 4   time_first_sc_to_first_net_fu  19231 non-null  float64\n",
      "dtypes: float64(3), int64(2)\n",
      "memory usage: 901.5 KB\n"
     ]
    }
   ],
   "source": [
    "counts_df.info()\n"
   ]
  },
  {
   "cell_type": "code",
   "execution_count": 32,
   "id": "1344a99f",
   "metadata": {},
   "outputs": [
    {
     "data": {
      "text/html": [
       "<div>\n",
       "<style scoped>\n",
       "    .dataframe tbody tr th:only-of-type {\n",
       "        vertical-align: middle;\n",
       "    }\n",
       "\n",
       "    .dataframe tbody tr th {\n",
       "        vertical-align: top;\n",
       "    }\n",
       "\n",
       "    .dataframe thead th {\n",
       "        text-align: right;\n",
       "    }\n",
       "</style>\n",
       "<table border=\"1\" class=\"dataframe\">\n",
       "  <thead>\n",
       "    <tr style=\"text-align: right;\">\n",
       "      <th></th>\n",
       "      <th>requestid</th>\n",
       "      <th>gross_FU</th>\n",
       "      <th>gross_SC</th>\n",
       "      <th>net_FU</th>\n",
       "      <th>net_SC</th>\n",
       "      <th>time_first_sc_to_first_net_fu</th>\n",
       "    </tr>\n",
       "  </thead>\n",
       "  <tbody>\n",
       "    <tr>\n",
       "      <th>0</th>\n",
       "      <td>2039</td>\n",
       "      <td>0</td>\n",
       "      <td>2</td>\n",
       "      <td>0.0</td>\n",
       "      <td>0.0</td>\n",
       "      <td>-1.000000</td>\n",
       "    </tr>\n",
       "    <tr>\n",
       "      <th>1</th>\n",
       "      <td>3279</td>\n",
       "      <td>0</td>\n",
       "      <td>1</td>\n",
       "      <td>0.0</td>\n",
       "      <td>1.0</td>\n",
       "      <td>-1.000000</td>\n",
       "    </tr>\n",
       "    <tr>\n",
       "      <th>2</th>\n",
       "      <td>3583</td>\n",
       "      <td>1</td>\n",
       "      <td>1</td>\n",
       "      <td>1.0</td>\n",
       "      <td>1.0</td>\n",
       "      <td>120.043056</td>\n",
       "    </tr>\n",
       "    <tr>\n",
       "      <th>3</th>\n",
       "      <td>3729</td>\n",
       "      <td>8</td>\n",
       "      <td>1</td>\n",
       "      <td>8.0</td>\n",
       "      <td>1.0</td>\n",
       "      <td>73.835556</td>\n",
       "    </tr>\n",
       "    <tr>\n",
       "      <th>4</th>\n",
       "      <td>3852</td>\n",
       "      <td>2</td>\n",
       "      <td>1</td>\n",
       "      <td>2.0</td>\n",
       "      <td>1.0</td>\n",
       "      <td>42.193889</td>\n",
       "    </tr>\n",
       "  </tbody>\n",
       "</table>\n",
       "</div>"
      ],
      "text/plain": [
       "   requestid  gross_FU  gross_SC  net_FU  net_SC  \\\n",
       "0       2039         0         2     0.0     0.0   \n",
       "1       3279         0         1     0.0     1.0   \n",
       "2       3583         1         1     1.0     1.0   \n",
       "3       3729         8         1     8.0     1.0   \n",
       "4       3852         2         1     2.0     1.0   \n",
       "\n",
       "   time_first_sc_to_first_net_fu  \n",
       "0                      -1.000000  \n",
       "1                      -1.000000  \n",
       "2                     120.043056  \n",
       "3                      73.835556  \n",
       "4                      42.193889  "
      ]
     },
     "execution_count": 32,
     "metadata": {},
     "output_type": "execute_result"
    }
   ],
   "source": [
    "\n",
    "counts_df = counts_df.reset_index()\n",
    "counts_df.head()\n",
    "# Now requestid is a regular column you can keep or reference"
   ]
  },
  {
   "cell_type": "markdown",
   "id": "42423681",
   "metadata": {},
   "source": [
    "merge comes later because i gad to create a df of the request first."
   ]
  },
  {
   "cell_type": "code",
   "execution_count": 33,
   "id": "e39962da",
   "metadata": {},
   "outputs": [
    {
     "name": "stdout",
     "output_type": "stream",
     "text": [
      "Final dataset shape: (19245, 14)\n",
      "Target variable distribution:\n",
      "netcontractsigned\n",
      "0.0    18809\n",
      "1.0      436\n",
      "Name: count, dtype: int64\n",
      "\n",
      "Columns: ['requestid', 'gross_FU', 'gross_SC', 'net_FU', 'net_SC', 'time_first_sc_to_first_net_fu', 'zipregion', 'evaluationtime', 'desiredinstallationend', 'electricitybill', 'heatingbill', 'mktgparamscore', 'netcontractsigned', 'selfipa_done']\n"
     ]
    }
   ],
   "source": [
    "# Left join to add target variable\n",
    "#final_df1 = counts_df.merge(contract, on='requestid', how='left')\n",
    "# unnecessairy join because df2 has netcontractsigned info \n",
    "\n",
    "final_df = counts_df.merge(df2, on='requestid', how='left')\n",
    "\n",
    "\n",
    "# Fill non-matching requestids with 0 for the target\n",
    "final_df['netcontractsigned'] = final_df['netcontractsigned'].fillna(0)\n",
    "\n",
    "# Check the result\n",
    "print(f\"Final dataset shape: {final_df.shape}\")\n",
    "print(f\"Target variable distribution:\")\n",
    "print(final_df['netcontractsigned'].value_counts())\n",
    "print(f\"\\nColumns: {list(final_df.columns)}\")"
   ]
  },
  {
   "cell_type": "markdown",
   "id": "77548790",
   "metadata": {},
   "source": [
    "### Move forward with final df"
   ]
  },
  {
   "cell_type": "code",
   "execution_count": null,
   "id": "46d163ea",
   "metadata": {},
   "outputs": [],
   "source": [
    "#Checkpoint:\n",
    "df_backup = final_df.copy()\n"
   ]
  },
  {
   "cell_type": "code",
   "execution_count": null,
   "id": "aff3f669",
   "metadata": {},
   "outputs": [],
   "source": [
    "#df_final = df_backup.copy()"
   ]
  },
  {
   "cell_type": "markdown",
   "id": "c80b9cf0",
   "metadata": {},
   "source": [
    "#### Exploratory checks"
   ]
  },
  {
   "cell_type": "code",
   "execution_count": 61,
   "id": "70f34963",
   "metadata": {},
   "outputs": [
    {
     "name": "stdout",
     "output_type": "stream",
     "text": [
      "Data types:\n",
      "requestid                           int64\n",
      "gross_FU                            int64\n",
      "gross_SC                            int64\n",
      "net_FU                            float64\n",
      "net_SC                            float64\n",
      "time_first_sc_to_first_net_fu     float64\n",
      "zipregion                          object\n",
      "evaluationtime                     object\n",
      "desiredinstallationend             object\n",
      "electricitybill                   float64\n",
      "heatingbill                       float64\n",
      "mktgparamscore                     object\n",
      "netcontractsigned                 float64\n",
      "selfipa_done                        int64\n",
      "desiredinstallationend_encoded      int64\n",
      "mktg_Affiliation                     bool\n",
      "mktg_Google                          bool\n",
      "mktg_Mediago                         bool\n",
      "mktg_Meta                            bool\n",
      "mktg_Organic                         bool\n",
      "mktg_Other                           bool\n",
      "mktg_Outbrain                        bool\n",
      "mktg_Referral                        bool\n",
      "mktg_Taboola                         bool\n",
      "mktg_TikTok                          bool\n",
      "mktg_Youtube                         bool\n",
      "mktg_d2d                             bool\n",
      "mktg_form_classico                   bool\n",
      "region_Abruzzo                       bool\n",
      "region_Basilicata                    bool\n",
      "region_Calabria                      bool\n",
      "region_Campania                      bool\n",
      "region_Emilia-Romagna                bool\n",
      "region_Friuli-Venezia Giulia         bool\n",
      "region_Lazio                         bool\n",
      "region_Liguria                       bool\n",
      "region_Lombardia                     bool\n",
      "region_Marche                        bool\n",
      "region_Molise                        bool\n",
      "region_Piemonte                      bool\n",
      "region_Puglia                        bool\n",
      "region_Sardegna                      bool\n",
      "region_Sicilia                       bool\n",
      "region_Toscana                       bool\n",
      "region_Trentino-Alto Adige           bool\n",
      "region_Umbria                        bool\n",
      "region_Valle D'Aosta                 bool\n",
      "region_Veneto                        bool\n",
      "evaluationtime_encoded              int64\n",
      "dtype: object\n",
      "\n",
      "Any missing values: 22206\n",
      "\n",
      "Feature matrix shape: (19245, 47)\n",
      "Target vector shape: (19245,)\n",
      "Feature distributions:\n",
      "           gross_FU      gross_SC        net_FU        net_SC  \\\n",
      "count  19245.000000  19245.000000  19245.000000  19245.000000   \n",
      "mean       1.744869      1.277786      0.943050      0.590023   \n",
      "std        2.833138      0.648494      1.836227      0.494896   \n",
      "min        0.000000      1.000000      0.000000      0.000000   \n",
      "25%        0.000000      1.000000      0.000000      0.000000   \n",
      "50%        0.000000      1.000000      0.000000      1.000000   \n",
      "75%        3.000000      1.000000      1.000000      1.000000   \n",
      "max       30.000000     23.000000     29.000000      2.000000   \n",
      "\n",
      "       time_first_sc_to_first_net_fu  electricitybill  heatingbill  \\\n",
      "count                   19245.000000     12790.000000  5028.000000   \n",
      "mean                      105.357961       123.677561   123.718576   \n",
      "std                       297.479514        89.204418   122.056953   \n",
      "min                        -1.000000         0.000000     0.000000   \n",
      "25%                        -1.000000        90.000000    90.000000   \n",
      "50%                        -1.000000       100.000000    90.000000   \n",
      "75%                        48.736389       144.750000   120.000000   \n",
      "max                      3507.707500      1000.000000  1000.000000   \n",
      "\n",
      "       selfipa_done  desiredinstallationend_encoded  evaluationtime_encoded  \n",
      "count  19245.000000                    19245.000000            19245.000000  \n",
      "mean       0.048740                        0.947207                2.879293  \n",
      "std        0.215329                        0.996365                1.228020  \n",
      "min        0.000000                        0.000000                0.000000  \n",
      "25%        0.000000                        0.000000                3.000000  \n",
      "50%        0.000000                        1.000000                3.000000  \n",
      "75%        0.000000                        1.000000                4.000000  \n",
      "max        1.000000                        4.000000                4.000000  \n",
      "\n",
      "Feature correlations with target:\n",
      "net_SC                           0.124013\n",
      "net_FU                           0.059874\n",
      "gross_FU                         0.027516\n",
      "time_first_sc_to_first_net_fu   -0.000146\n",
      "gross_SC                        -0.015678\n",
      "Name: netcontractsigned, dtype: float64\n",
      "\n",
      "Mean feature values by target class:\n",
      "                   gross_FU  gross_SC    net_FU    net_SC  \\\n",
      "netcontractsigned                                           \n",
      "0.0                1.733000  1.279334  0.926312  0.580679   \n",
      "1.0                2.256881  1.211009  1.665138  0.993119   \n",
      "\n",
      "                   time_first_sc_to_first_net_fu  \n",
      "netcontractsigned                                 \n",
      "0.0                                   105.364562  \n",
      "1.0                                   105.073203  \n"
     ]
    }
   ],
   "source": [
    "# basic check\n",
    "\n",
    "# Check final data types and any remaining issues\n",
    "print(\"Data types:\")\n",
    "print(final_df.dtypes)\n",
    "print(f\"\\nAny missing values: {final_df.isnull().sum().sum()}\")\n",
    "\n",
    "# Separate features from target for ML\n",
    "X = final_df.drop(['requestid', 'netcontractsigned'], axis=1)\n",
    "y = final_df['netcontractsigned']\n",
    "\n",
    "print(f\"\\nFeature matrix shape: {X.shape}\")\n",
    "print(f\"Target vector shape: {y.shape}\")\n",
    "\n",
    "# Basic feature statistics\n",
    "print(\"Feature distributions:\")\n",
    "print(X.describe())\n",
    "\n",
    "# Check feature correlations with target\n",
    "print(f\"\\nFeature correlations with target:\")\n",
    "correlations = final_df[['gross_FU', 'gross_SC', 'net_FU', 'net_SC', 'time_first_sc_to_first_net_fu', 'netcontractsigned']].corr()['netcontractsigned'].drop('netcontractsigned')\n",
    "print(correlations.sort_values(ascending=False))\n",
    "\n",
    "# Look at feature distributions by target class\n",
    "print(f\"\\nMean feature values by target class:\")\n",
    "print(final_df.groupby('netcontractsigned')[['gross_FU', 'gross_SC', 'net_FU', 'net_SC', 'time_first_sc_to_first_net_fu']].mean())"
   ]
  },
  {
   "cell_type": "code",
   "execution_count": 23,
   "id": "8365b17f",
   "metadata": {},
   "outputs": [
    {
     "name": "stdout",
     "output_type": "stream",
     "text": [
      "Missing values per column:\n",
      "zipregion                  608\n",
      "evaluationtime             241\n",
      "desiredinstallationend     242\n",
      "electricitybill           6349\n",
      "mktgparamscore             926\n",
      "dtype: int64\n",
      "\n",
      "Object columns needing encoding: ['zipregion', 'evaluationtime', 'desiredinstallationend', 'mktgparamscore']\n"
     ]
    }
   ],
   "source": [
    "# Check missing values by column\n",
    "print(\"Missing values per column:\")\n",
    "missing_counts = final_df.isnull().sum()\n",
    "print(missing_counts[missing_counts > 0])\n",
    "\n",
    "# Check the object columns that need encoding\n",
    "object_cols = final_df.select_dtypes(include=['object']).columns\n",
    "print(f\"\\nObject columns needing encoding: {list(object_cols)}\")"
   ]
  },
  {
   "cell_type": "code",
   "execution_count": 48,
   "id": "3aaed03d",
   "metadata": {},
   "outputs": [
    {
     "name": "stdout",
     "output_type": "stream",
     "text": [
      "zipregion: 20 unique values\n",
      "\n",
      "evaluationtime: 9 unique values\n",
      "  Values: ['3-6 mesi', '<3 mesi', '>6 mesi', 'curious', 'evaluation', 'less_than_three_months', 'more_than_six_months', 'understand_need', 'understand_purchase']\n",
      "\n",
      "desiredinstallationend: 9 unique values\n",
      "  Values: ['1-2mesi', '3-4mesi', '5+mesi', 'Non lo so', 'dont_know', 'more_than_5_months', 'one_to_two_months', 'short', 'three_to_four_months']\n",
      "\n",
      "mktgparamscore: 13 unique values\n",
      "  Values: ['Affiliation', 'Google', 'Mediago', 'Meta', 'Organic', 'Other', 'Outbrain', 'Referral', 'Taboola', 'TikTok', 'Youtube', 'd2d', 'form_classico']\n",
      "\n"
     ]
    }
   ],
   "source": [
    "# categorical values\n",
    "# Check unique values in categorical columns\n",
    "for col in ['zipregion', 'evaluationtime', 'desiredinstallationend', 'mktgparamscore']:\n",
    "    unique_count = final_df[col].nunique()\n",
    "    print(f\"{col}: {unique_count} unique values\")\n",
    "    if unique_count < 20:  # Show values if not too many\n",
    "        print(f\"  Values: {sorted(final_df[col].dropna().unique())}\")\n",
    "    print()"
   ]
  },
  {
   "cell_type": "code",
   "execution_count": 25,
   "id": "807c17a0",
   "metadata": {},
   "outputs": [
    {
     "name": "stdout",
     "output_type": "stream",
     "text": [
      "Electricitybill value counts (first 10):\n",
      "electricitybill\n",
      "90.0     3157\n",
      "100.0    1656\n",
      "150.0    1013\n",
      "120.0     614\n",
      "200.0     601\n",
      "80.0      587\n",
      "70.0      431\n",
      "0.0       336\n",
      "60.0      315\n",
      "130.0     301\n",
      "Name: count, dtype: int64\n",
      "\n",
      "Zipregion unique values:\n",
      "Count: 20\n",
      "Sample values: ['Lombardia' 'Veneto' 'Emilia-Romagna' 'Toscana' 'Friuli-Venezia Giulia'\n",
      " 'Puglia' 'Piemonte' 'Liguria' 'Calabria' 'Lazio']\n"
     ]
    }
   ],
   "source": [
    "# Check if zeros in electricitybill are meaningful\n",
    "print(\"Electricitybill value counts (first 10):\")\n",
    "print(final_df['electricitybill'].value_counts().head(10))\n",
    "\n",
    "# Check zipregion unique values since we couldn't see them\n",
    "print(f\"\\nZipregion unique values:\")\n",
    "print(f\"Count: {final_df['zipregion'].nunique()}\")\n",
    "print(\"Sample values:\", final_df['zipregion'].dropna().unique()[:10])\n",
    "\n",
    "# For encoding strategy:\n",
    "# evaluationtime (8 values) - ordinal or one-hot\n",
    "# desiredinstallationend (5 values) - ordinal (time-based)  \n",
    "# mktgparamscore (13 values) - one-hot (marketing channels)\n",
    "# zipregion (20 values) - might need grouping or target encoding"
   ]
  },
  {
   "cell_type": "code",
   "execution_count": 26,
   "id": "bac15629",
   "metadata": {},
   "outputs": [
    {
     "name": "stdout",
     "output_type": "stream",
     "text": [
      "Conversion rates by missingness:\n",
      "zipregion:\n",
      "  Missing: 0.031 (608 cases)\n",
      "  Present: 0.022 (18637 cases)\n",
      "\n",
      "evaluationtime:\n",
      "  Missing: 0.008 (241 cases)\n",
      "  Present: 0.023 (19004 cases)\n",
      "\n",
      "desiredinstallationend:\n",
      "  Missing: 0.008 (242 cases)\n",
      "  Present: 0.023 (19003 cases)\n",
      "\n",
      "electricitybill:\n",
      "  Missing: 0.012 (6349 cases)\n",
      "  Present: 0.028 (12896 cases)\n",
      "\n",
      "mktgparamscore:\n",
      "  Missing: 0.021 (926 cases)\n",
      "  Present: 0.023 (18319 cases)\n",
      "\n"
     ]
    }
   ],
   "source": [
    "# Check if missingness patterns relate to conversion\n",
    "print(\"Conversion rates by missingness:\")\n",
    "for col in ['zipregion', 'evaluationtime', 'desiredinstallationend', 'electricitybill', 'mktgparamscore']:\n",
    "    missing_conversion = final_df[final_df[col].isnull()]['netcontractsigned'].mean()\n",
    "    present_conversion = final_df[final_df[col].notnull()]['netcontractsigned'].mean()\n",
    "    \n",
    "    print(f\"{col}:\")\n",
    "    print(f\"  Missing: {missing_conversion:.3f} ({final_df[col].isnull().sum()} cases)\")\n",
    "    print(f\"  Present: {present_conversion:.3f} ({final_df[col].notnull().sum()} cases)\")\n",
    "    print()"
   ]
  },
  {
   "cell_type": "code",
   "execution_count": 45,
   "id": "ada0afac",
   "metadata": {},
   "outputs": [],
   "source": [
    "# set wrong bill values to nan\n",
    "# Replace specific values with NaN\n",
    "final_df['electricitybill'] = final_df['electricitybill'].replace([0, 1, -1], pd.NA)\n",
    "final_df['heatingbill'] = final_df['heatingbill'].replace([0, 1, -1], pd.NA)"
   ]
  },
  {
   "cell_type": "code",
   "execution_count": 62,
   "id": "2598d925",
   "metadata": {},
   "outputs": [
    {
     "name": "stdout",
     "output_type": "stream",
     "text": [
      "Missing indicator correlations with target:\n",
      "electricitybill_missing          -0.051951\n",
      "mktgparamscore_missing           -0.003229\n",
      "zipregion_missing                 0.010433\n",
      "heatingbill_missing               0.028544\n",
      "evaluationtime_missing                 NaN\n",
      "desiredinstallationend_missing         NaN\n",
      "Name: netcontractsigned, dtype: float64\n"
     ]
    }
   ],
   "source": [
    "# Create missing value indicators (these will be strong features!)\n",
    "missing_cols = ['zipregion', 'evaluationtime', 'desiredinstallationend', 'electricitybill', 'heatingbill', 'mktgparamscore']\n",
    "\n",
    "for col in missing_cols:\n",
    "    final_df[f'{col}_missing'] = final_df[col].isnull().astype(int)\n",
    "\n",
    "# Check the predictive power of missing indicators\n",
    "print(\"Missing indicator correlations with target:\")\n",
    "missing_indicators = [f'{col}_missing' for col in missing_cols]\n",
    "missing_corrs = final_df[missing_indicators + ['netcontractsigned']].corr()['netcontractsigned'].drop('netcontractsigned')\n",
    "print(missing_corrs.sort_values())"
   ]
  },
  {
   "cell_type": "code",
   "execution_count": 63,
   "id": "0d3c0b46",
   "metadata": {},
   "outputs": [
    {
     "name": "stdout",
     "output_type": "stream",
     "text": [
      "Mutual Information scores (higher = more predictive):\n",
      "net_SC: 0.0114\n",
      "net_FU: 0.0049\n",
      "gross_SC: 0.0003\n",
      "gross_FU: 0.0044\n",
      "time_first_sc_to_first_net_fu: 0.0650\n",
      "electricitybill_missing: 0.0015\n",
      "mktgparamscore_missing: 0.0000\n",
      "zipregion_missing: 0.0000\n",
      "\n",
      "Mean feature values by class (showing actual business impact):\n",
      "                     net_SC    net_FU  gross_SC  gross_FU  \\\n",
      "netcontractsigned                                           \n",
      "0.0                0.580679  0.926312  1.279334  1.733000   \n",
      "1.0                0.993119  1.665138  1.211009  2.256881   \n",
      "\n",
      "                   time_first_sc_to_first_net_fu  electricitybill_missing  \\\n",
      "netcontractsigned                                                           \n",
      "0.0                                   105.364562                 0.339146   \n",
      "1.0                                   105.073203                 0.174312   \n",
      "\n",
      "                   mktgparamscore_missing  zipregion_missing  \n",
      "netcontractsigned                                             \n",
      "0.0                              0.048222           0.031315  \n",
      "1.0                              0.043578           0.043578  \n"
     ]
    },
    {
     "name": "stderr",
     "output_type": "stream",
     "text": [
      "c:\\Users\\ElifYilmaz\\OneDrive - Enpal B.V\\Desktop\\New folder\\Project\\.venv\\Lib\\site-packages\\sklearn\\metrics\\cluster\\_supervised.py:59: UserWarning: Clustering metrics expects discrete values but received continuous values for label, and binary values for target\n",
      "  warnings.warn(msg, UserWarning)\n"
     ]
    }
   ],
   "source": [
    "# Better metrics for imbalanced data\n",
    "from sklearn.metrics import mutual_info_score\n",
    "\n",
    "# Calculate mutual information (better for imbalanced targets)\n",
    "print(\"Mutual Information scores (higher = more predictive):\")\n",
    "feature_cols = ['net_SC', 'net_FU', 'gross_SC', 'gross_FU', 'time_first_sc_to_first_net_fu',\n",
    "               'electricitybill_missing', 'mktgparamscore_missing', 'zipregion_missing']\n",
    "\n",
    "for col in feature_cols:\n",
    "    if col in final_df.columns:\n",
    "        mi_score = mutual_info_score(final_df[col], final_df['netcontractsigned'])\n",
    "        print(f\"{col}: {mi_score:.4f}\")\n",
    "\n",
    "# Also check mean differences between classes (more intuitive)\n",
    "print(f\"\\nMean feature values by class (showing actual business impact):\")\n",
    "class_means = final_df.groupby('netcontractsigned')[feature_cols].mean()\n",
    "print(class_means)"
   ]
  },
  {
   "cell_type": "markdown",
   "id": "fbaf2906",
   "metadata": {},
   "source": [
    "#### Handle wrong bills\n",
    "will set wrong values to nan because adasyn handle it better; also nn can handle"
   ]
  },
  {
   "cell_type": "code",
   "execution_count": 65,
   "id": "749f4c96",
   "metadata": {},
   "outputs": [
    {
     "name": "stdout",
     "output_type": "stream",
     "text": [
      "heatingbill:\n",
      "  - Negative values: 0\n",
      "  - Values > 2000: 0\n",
      "  - Original NaN: 14217\n",
      "electricitybill:\n",
      "  - Negative values: 0\n",
      "  - Values > 2000: 0\n",
      "  - Original NaN: 6455\n"
     ]
    }
   ],
   "source": [
    "# Function to clean and validate billing columns\n",
    "def clean_billing_column(series, column_name):\n",
    "    \"\"\"Clean billing column: set negative values and extreme outliers to replacement value\"\"\"\n",
    "    \n",
    "    # Convert to numeric, coerce errors to NaN\n",
    "    series_clean = pd.to_numeric(series, errors='coerce')\n",
    "    \n",
    "    # Define reasonable bounds (adjust these based on your domain knowledge)\n",
    "    min_reasonable = 0  # Bills shouldn't be negative\n",
    "    max_reasonable = 2000  # Adjust based on your market (e.g., €1000/month seems high)\n",
    "    \n",
    "    # Count issues for reporting\n",
    "    negative_count = (series_clean < min_reasonable).sum()\n",
    "    outlier_count = (series_clean > max_reasonable).sum()\n",
    "    \n",
    "    print(f\"{column_name}:\")\n",
    "    print(f\"  - Negative values: {negative_count}\")\n",
    "    print(f\"  - Values > {max_reasonable}: {outlier_count}\")\n",
    "    print(f\"  - Original NaN: {series.isna().sum()}\")\n",
    "    \n",
    "    # Replace problematic values\n",
    "    series_clean.loc[series_clean < min_reasonable] = np.nan  # or -1\n",
    "    series_clean.loc[series_clean > max_reasonable] = np.nan  # or -1\n",
    "    \n",
    "    return series_clean\n",
    "\n",
    "# Apply cleaning\n",
    "final_df['heatingbill'] = clean_billing_column(final_df['heatingbill'], 'heatingbill')\n",
    "final_df['electricitybill'] = clean_billing_column(final_df['electricitybill'], 'electricitybill')"
   ]
  },
  {
   "cell_type": "markdown",
   "id": "b1c0bafa",
   "metadata": {},
   "source": [
    "Encoding categorical"
   ]
  },
  {
   "cell_type": "code",
   "execution_count": 66,
   "id": "033ffd91",
   "metadata": {},
   "outputs": [],
   "source": [
    "# desiredinstallationend\n",
    "type_mapping = {\n",
    "    # Original Italian values\n",
    "    '3-4mesi': 'three_to_four_months', \n",
    "    '5+mesi': 'more_than_5_months',\n",
    "    '1-2mesi': 'one_to_two_months',\n",
    "    'Non lo so': 'dont_know',\n",
    "    'short': np.nan,\n",
    "    # Already mapped values (keep as-is)\n",
    "    'dont_know': 'dont_know',\n",
    "    'three_to_four_months': 'three_to_four_months',\n",
    "    'one_to_two_months': 'one_to_two_months', \n",
    "    'more_than_5_months': 'more_than_5_months',\n",
    "    # Handle string 'nan'\n",
    "    'nan': np.nan\n",
    "}\n",
    "\n",
    "final_df['desiredinstallationend1'] = final_df['desiredinstallationend'].map(type_mapping)"
   ]
  },
  {
   "cell_type": "code",
   "execution_count": 71,
   "id": "408748ac",
   "metadata": {},
   "outputs": [
    {
     "data": {
      "text/plain": [
       "evaluationtime1\n",
       "understand_purchase    7370\n",
       "understand_need        7363\n",
       "evaluation             3305\n",
       "curious                 938\n",
       "Name: count, dtype: int64"
      ]
     },
     "execution_count": 71,
     "metadata": {},
     "output_type": "execute_result"
    }
   ],
   "source": [
    "final_df['evaluationtime1'].value_counts()"
   ]
  },
  {
   "cell_type": "code",
   "execution_count": 70,
   "id": "733a35ba",
   "metadata": {},
   "outputs": [],
   "source": [
    "\n",
    "# evaluationtime\n",
    "type_mapping = {\n",
    "    # Original Italian values\n",
    "    '3-6 mesi': np.nan,\n",
    "    '<3 mesi': np.nan,\n",
    "    '>6 mesi': np.nan,\n",
    "    # Already mapped English values\n",
    "    'less_than_three_months': np.nan,\n",
    "    'more_than_six_months': np.nan,\n",
    "    # Other values that appear in your data\n",
    "    'understand_need': 'understand_need',  # or map to np.nan if you don't want these\n",
    "    'understand_purchase': 'understand_purchase',  # or map to np.nan if you don't want these\n",
    "    'evaluation': 'evaluation',  # or map to np.nan if you don't want these\n",
    "    'curious': 'curious',  # or map to np.nan if you don't want these\n",
    "    # Handle string 'nan'\n",
    "    'nan': np.nan\n",
    "}\n",
    "\n",
    "# Create grouped_type column\n",
    "final_df['evaluationtime1'] = final_df['evaluationtime'].map(type_mapping)\n",
    "\n",
    "\n"
   ]
  },
  {
   "cell_type": "code",
   "execution_count": 72,
   "id": "1605d141",
   "metadata": {},
   "outputs": [],
   "source": [
    "# Replace the old columns directly\n",
    "final_df['desiredinstallationend'] = final_df['desiredinstallationend1']\n",
    "final_df['evaluationtime'] = final_df['evaluationtime1']\n",
    "\n",
    "# Drop the temporary columns\n",
    "final_df = final_df.drop(['desiredinstallationend1', 'evaluationtime1'], axis=1)"
   ]
  },
  {
   "cell_type": "code",
   "execution_count": 73,
   "id": "3bb4f612",
   "metadata": {},
   "outputs": [],
   "source": [
    "# handle nan before encoding\n",
    "final_df['desiredinstallationend'] = final_df['desiredinstallationend'].fillna('missing')\n",
    "final_df['evaluationtime'] = final_df['evaluationtime'].fillna('missing')\n"
   ]
  },
  {
   "cell_type": "code",
   "execution_count": 74,
   "id": "19706b49",
   "metadata": {},
   "outputs": [],
   "source": [
    "# Start with ordinal encoding for time-based features\n",
    "from sklearn.preprocessing import LabelEncoder\n",
    "\n",
    "# Ordinal encoding for desiredinstallationend (time-based order)\n",
    "time_order = [ 'one_to_two_months', 'three_to_four_months', 'more_than_5_months', 'dont_know', 'missing']\n",
    "final_df['desiredinstallationend_encoded'] = final_df['desiredinstallationend'].map({val: i for i, val in enumerate(time_order)})"
   ]
  },
  {
   "cell_type": "code",
   "execution_count": 75,
   "id": "5881e376",
   "metadata": {},
   "outputs": [
    {
     "name": "stdout",
     "output_type": "stream",
     "text": [
      "Dataset shape after encoding: (19245, 88)\n",
      "New dummy columns created: 33\n"
     ]
    }
   ],
   "source": [
    "# One-hot encoding for marketing channels (mktgparamscore)\n",
    "marketing_dummies = pd.get_dummies(final_df['mktgparamscore'], prefix='mktg')\n",
    "final_df = pd.concat([final_df, marketing_dummies], axis=1)\n",
    "\n",
    "# One-hot encoding for regions (zipregion) \n",
    "region_dummies = pd.get_dummies(final_df['zipregion'], prefix='region')\n",
    "final_df = pd.concat([final_df, region_dummies], axis=1)\n",
    "\n",
    "# Label encoding for evaluationtime (mixed ordinal/categorical)\n",
    "le = LabelEncoder()\n",
    "final_df['evaluationtime_encoded'] = le.fit_transform(final_df['evaluationtime'])\n",
    "\n",
    "print(f\"Dataset shape after encoding: {final_df.shape}\")\n",
    "print(f\"New dummy columns created: {len(marketing_dummies.columns) + len(region_dummies.columns)}\")"
   ]
  },
  {
   "cell_type": "code",
   "execution_count": 76,
   "id": "c41b5124",
   "metadata": {},
   "outputs": [
    {
     "name": "stdout",
     "output_type": "stream",
     "text": [
      "Final feature matrix: (19245, 82)\n",
      "Final target vector: (19245,)\n",
      "Feature columns: 82 features\n",
      "\n",
      "Target distribution:\n",
      "netcontractsigned\n",
      "0.0    0.977345\n",
      "1.0    0.022655\n",
      "Name: proportion, dtype: float64\n",
      "\n",
      "No missing values: False\n"
     ]
    }
   ],
   "source": [
    "# Drop original categorical columns and create final feature matrix\n",
    "columns_to_drop = ['requestid', 'zipregion', 'evaluationtime', 'desiredinstallationend', 'mktgparamscore', 'netcontractsigned']\n",
    "X_final = final_df.drop(columns=columns_to_drop)\n",
    "y_final = final_df['netcontractsigned']\n",
    "\n",
    "print(f\"Final feature matrix: {X_final.shape}\")\n",
    "print(f\"Final target vector: {y_final.shape}\")\n",
    "print(f\"Feature columns: {len(X_final.columns)} features\")\n",
    "\n",
    "# Quick check of final dataset\n",
    "print(f\"\\nTarget distribution:\")\n",
    "print(y_final.value_counts(normalize=True))\n",
    "print(f\"\\nNo missing values: {X_final.isnull().sum().sum() == 0}\")"
   ]
  },
  {
   "cell_type": "markdown",
   "id": "f3f140ac",
   "metadata": {},
   "source": [
    "At this point we have our dataset encoded, mostly one hot encoding which made the dset muhc bigger, was it necessary idk but x_final and y_final are the final ones"
   ]
  },
  {
   "cell_type": "code",
   "execution_count": 81,
   "id": "1cfb85ec",
   "metadata": {},
   "outputs": [
    {
     "name": "stdout",
     "output_type": "stream",
     "text": [
      "Remaining missing values: 0\n",
      "Dataset ready: True\n",
      "\n",
      "Final dataset shape: (19245, 82)\n",
      "Target balance: 2.3% positive class\n"
     ]
    }
   ],
   "source": [
    "# Fix electricitybill missing values\n",
    "X_final['electricitybill'] = X_final['electricitybill'].fillna(X_final['electricitybill'].median())\n",
    "X_final['heatingbill'] = X_final['heatingbill'].fillna(X_final['heatingbill'].median())\n",
    "\n",
    "# Fix desiredinstallationend_encoded - NaN means 'Unknown' which should be 0\n",
    "X_final['desiredinstallationend_encoded'] = X_final['desiredinstallationend_encoded'].fillna(0)\n",
    "\n",
    "# Verify all missing values are gone\n",
    "print(f\"Remaining missing values: {X_final.isnull().sum().sum()}\")\n",
    "print(f\"Dataset ready: {X_final.isnull().sum().sum() == 0}\")\n",
    "\n",
    "# Final check\n",
    "print(f\"\\nFinal dataset shape: {X_final.shape}\")\n",
    "print(f\"Target balance: {y_final.mean():.1%} positive class\")"
   ]
  },
  {
   "cell_type": "code",
   "execution_count": null,
   "id": "fa926dfb",
   "metadata": {},
   "outputs": [],
   "source": [
    "# scaling when needed\n",
    "continuous_cols= [\n",
    "    'time_first_sc_to_first_net_fu',\n",
    "    'electricitybill', \n",
    "    'heatingbill'\n",
    "]\n",
    "from sklearn.preprocessing import StandardScaler\n",
    "\n",
    "# Scale only the continuous features\n",
    "scaler = StandardScaler()\n",
    "X_final[continuous_cols] = scaler.fit_transform(X_final[continuous_cols])"
   ]
  },
  {
   "cell_type": "code",
   "execution_count": 91,
   "id": "d8a2770f",
   "metadata": {},
   "outputs": [
    {
     "name": "stdout",
     "output_type": "stream",
     "text": [
      "Duplicate column pairs: [('mktg_Affiliation', 'mktg_Affiliation'), ('mktg_Google', 'mktg_Google'), ('mktg_Mediago', 'mktg_Mediago'), ('mktg_Meta', 'mktg_Meta'), ('mktg_Organic', 'mktg_Organic'), ('mktg_Other', 'mktg_Other'), ('mktg_Outbrain', 'mktg_Outbrain'), ('mktg_Referral', 'mktg_Referral'), ('mktg_Taboola', 'mktg_Taboola'), ('mktg_TikTok', 'mktg_TikTok'), ('mktg_Youtube', 'mktg_Youtube'), ('mktg_d2d', 'mktg_d2d'), ('mktg_form_classico', 'mktg_form_classico'), ('region_Abruzzo', 'region_Abruzzo'), ('region_Basilicata', 'region_Basilicata'), ('region_Calabria', 'region_Calabria'), ('region_Campania', 'region_Campania'), ('region_Emilia-Romagna', 'region_Emilia-Romagna'), ('region_Friuli-Venezia Giulia', 'region_Friuli-Venezia Giulia'), ('region_Lazio', 'region_Lazio'), ('region_Liguria', 'region_Liguria'), ('region_Lombardia', 'region_Lombardia'), ('region_Marche', 'region_Marche'), ('region_Molise', 'region_Molise'), ('region_Piemonte', 'region_Piemonte'), ('region_Puglia', 'region_Puglia'), ('region_Sardegna', 'region_Sardegna'), ('region_Sicilia', 'region_Sicilia'), ('region_Toscana', 'region_Toscana'), ('region_Trentino-Alto Adige', 'region_Trentino-Alto Adige'), ('region_Umbria', 'region_Umbria'), (\"region_Valle D'Aosta\", \"region_Valle D'Aosta\"), ('region_Veneto', 'region_Veneto'), ('evaluationtime_missing', 'desiredinstallationend_missing')]\n",
      "Original shape: (19245, 82)\n",
      "After removing duplicates: (19245, 49)\n"
     ]
    }
   ],
   "source": [
    "# Check your actual dataset for duplicates\n",
    "duplicate_cols = []\n",
    "cols = X_final.columns.tolist()\n",
    "\n",
    "for i in range(len(cols)):\n",
    "    for j in range(i+1, len(cols)):\n",
    "        if X_final[cols[i]].equals(X_final[cols[j]]):\n",
    "            duplicate_cols.append((cols[i], cols[j]))\n",
    "\n",
    "print(\"Duplicate column pairs:\", duplicate_cols)\n",
    "print(f\"Original shape: {X_final.shape}\")\n",
    "\n",
    "# Remove duplicates if any found\n",
    "X_final_clean = X_final.loc[:, ~X_final.columns.duplicated()]\n",
    "print(f\"After removing duplicates: {X_final_clean.shape}\")"
   ]
  },
  {
   "cell_type": "markdown",
   "id": "7a790336",
   "metadata": {},
   "source": [
    "Class imbalance\n"
   ]
  },
  {
   "cell_type": "code",
   "execution_count": 85,
   "id": "90a5a9b4",
   "metadata": {},
   "outputs": [
    {
     "name": "stdout",
     "output_type": "stream",
     "text": [
      "<class 'pandas.core.frame.DataFrame'>\n",
      "RangeIndex: 19245 entries, 0 to 19244\n",
      "Data columns (total 82 columns):\n",
      " #   Column                          Non-Null Count  Dtype  \n",
      "---  ------                          --------------  -----  \n",
      " 0   gross_FU                        19245 non-null  int64  \n",
      " 1   gross_SC                        19245 non-null  int64  \n",
      " 2   net_FU                          19245 non-null  float64\n",
      " 3   net_SC                          19245 non-null  float64\n",
      " 4   time_first_sc_to_first_net_fu   19245 non-null  float64\n",
      " 5   electricitybill                 19245 non-null  float64\n",
      " 6   heatingbill                     19245 non-null  float64\n",
      " 7   selfipa_done                    19245 non-null  int64  \n",
      " 8   desiredinstallationend_encoded  19245 non-null  int64  \n",
      " 9   mktg_Affiliation                19245 non-null  bool   \n",
      " 10  mktg_Google                     19245 non-null  bool   \n",
      " 11  mktg_Mediago                    19245 non-null  bool   \n",
      " 12  mktg_Meta                       19245 non-null  bool   \n",
      " 13  mktg_Organic                    19245 non-null  bool   \n",
      " 14  mktg_Other                      19245 non-null  bool   \n",
      " 15  mktg_Outbrain                   19245 non-null  bool   \n",
      " 16  mktg_Referral                   19245 non-null  bool   \n",
      " 17  mktg_Taboola                    19245 non-null  bool   \n",
      " 18  mktg_TikTok                     19245 non-null  bool   \n",
      " 19  mktg_Youtube                    19245 non-null  bool   \n",
      " 20  mktg_d2d                        19245 non-null  bool   \n",
      " 21  mktg_form_classico              19245 non-null  bool   \n",
      " 22  region_Abruzzo                  19245 non-null  bool   \n",
      " 23  region_Basilicata               19245 non-null  bool   \n",
      " 24  region_Calabria                 19245 non-null  bool   \n",
      " 25  region_Campania                 19245 non-null  bool   \n",
      " 26  region_Emilia-Romagna           19245 non-null  bool   \n",
      " 27  region_Friuli-Venezia Giulia    19245 non-null  bool   \n",
      " 28  region_Lazio                    19245 non-null  bool   \n",
      " 29  region_Liguria                  19245 non-null  bool   \n",
      " 30  region_Lombardia                19245 non-null  bool   \n",
      " 31  region_Marche                   19245 non-null  bool   \n",
      " 32  region_Molise                   19245 non-null  bool   \n",
      " 33  region_Piemonte                 19245 non-null  bool   \n",
      " 34  region_Puglia                   19245 non-null  bool   \n",
      " 35  region_Sardegna                 19245 non-null  bool   \n",
      " 36  region_Sicilia                  19245 non-null  bool   \n",
      " 37  region_Toscana                  19245 non-null  bool   \n",
      " 38  region_Trentino-Alto Adige      19245 non-null  bool   \n",
      " 39  region_Umbria                   19245 non-null  bool   \n",
      " 40  region_Valle D'Aosta            19245 non-null  bool   \n",
      " 41  region_Veneto                   19245 non-null  bool   \n",
      " 42  evaluationtime_encoded          19245 non-null  int64  \n",
      " 43  zipregion_missing               19245 non-null  int64  \n",
      " 44  evaluationtime_missing          19245 non-null  int64  \n",
      " 45  desiredinstallationend_missing  19245 non-null  int64  \n",
      " 46  electricitybill_missing         19245 non-null  int64  \n",
      " 47  heatingbill_missing             19245 non-null  int64  \n",
      " 48  mktgparamscore_missing          19245 non-null  int64  \n",
      " 49  mktg_Affiliation                19245 non-null  bool   \n",
      " 50  mktg_Google                     19245 non-null  bool   \n",
      " 51  mktg_Mediago                    19245 non-null  bool   \n",
      " 52  mktg_Meta                       19245 non-null  bool   \n",
      " 53  mktg_Organic                    19245 non-null  bool   \n",
      " 54  mktg_Other                      19245 non-null  bool   \n",
      " 55  mktg_Outbrain                   19245 non-null  bool   \n",
      " 56  mktg_Referral                   19245 non-null  bool   \n",
      " 57  mktg_Taboola                    19245 non-null  bool   \n",
      " 58  mktg_TikTok                     19245 non-null  bool   \n",
      " 59  mktg_Youtube                    19245 non-null  bool   \n",
      " 60  mktg_d2d                        19245 non-null  bool   \n",
      " 61  mktg_form_classico              19245 non-null  bool   \n",
      " 62  region_Abruzzo                  19245 non-null  bool   \n",
      " 63  region_Basilicata               19245 non-null  bool   \n",
      " 64  region_Calabria                 19245 non-null  bool   \n",
      " 65  region_Campania                 19245 non-null  bool   \n",
      " 66  region_Emilia-Romagna           19245 non-null  bool   \n",
      " 67  region_Friuli-Venezia Giulia    19245 non-null  bool   \n",
      " 68  region_Lazio                    19245 non-null  bool   \n",
      " 69  region_Liguria                  19245 non-null  bool   \n",
      " 70  region_Lombardia                19245 non-null  bool   \n",
      " 71  region_Marche                   19245 non-null  bool   \n",
      " 72  region_Molise                   19245 non-null  bool   \n",
      " 73  region_Piemonte                 19245 non-null  bool   \n",
      " 74  region_Puglia                   19245 non-null  bool   \n",
      " 75  region_Sardegna                 19245 non-null  bool   \n",
      " 76  region_Sicilia                  19245 non-null  bool   \n",
      " 77  region_Toscana                  19245 non-null  bool   \n",
      " 78  region_Trentino-Alto Adige      19245 non-null  bool   \n",
      " 79  region_Umbria                   19245 non-null  bool   \n",
      " 80  region_Valle D'Aosta            19245 non-null  bool   \n",
      " 81  region_Veneto                   19245 non-null  bool   \n",
      "dtypes: bool(66), float64(5), int64(11)\n",
      "memory usage: 3.6 MB\n"
     ]
    }
   ],
   "source": [
    "X_final.info()"
   ]
  },
  {
   "cell_type": "code",
   "execution_count": 92,
   "id": "dde52a08",
   "metadata": {},
   "outputs": [
    {
     "name": "stdout",
     "output_type": "stream",
     "text": [
      "Recommended class weights: {np.float64(0.0): np.float64(0.5115901961826785), np.float64(1.0): np.float64(22.06995412844037)}\n",
      "Weight ratio: 43.1:1 for positive class\n"
     ]
    }
   ],
   "source": [
    "import numpy as np\n",
    "# Calculate class weights for imbalanced data\n",
    "from sklearn.utils.class_weight import compute_class_weight\n",
    "\n",
    "class_weights = compute_class_weight('balanced', classes=np.unique(y_final), y=y_final)\n",
    "class_weight_dict = dict(zip(np.unique(y_final), class_weights))\n",
    "\n",
    "print(f\"Recommended class weights: {class_weight_dict}\")\n",
    "print(f\"Weight ratio: {class_weight_dict[1.0]/class_weight_dict[0.0]:.1f}:1 for positive class\")"
   ]
  },
  {
   "cell_type": "code",
   "execution_count": 96,
   "id": "8847eac5",
   "metadata": {},
   "outputs": [
    {
     "name": "stdout",
     "output_type": "stream",
     "text": [
      "Original training set: (15396, 82)\n",
      "After SMOTE: (30094, 82)\n",
      "Original class distribution: netcontractsigned\n",
      "0.0    15047\n",
      "1.0      349\n",
      "Name: count, dtype: int64\n",
      "After SMOTE class distribution: netcontractsigned\n",
      "0.0    15047\n",
      "1.0    15047\n",
      "Name: count, dtype: int64\n"
     ]
    }
   ],
   "source": [
    "# SMOTE\n",
    "from imblearn.over_sampling import SMOTE\n",
    "from sklearn.model_selection import train_test_split\n",
    "\n",
    "# First, split your data (important to do this BEFORE SMOTE)\n",
    "X_train, X_test, y_train, y_test = train_test_split(\n",
    "    X_final, y, test_size=0.2, random_state=42, stratify=y\n",
    ")\n",
    "\n",
    "# Apply SMOTE only to training data\n",
    "smote = SMOTE(random_state=42)\n",
    "X_train_smote, y_train_smote = smote.fit_resample(X_train, y_train)\n",
    "\n",
    "print(f\"Original training set: {X_train.shape}\")\n",
    "print(f\"After SMOTE: {X_train_smote.shape}\")\n",
    "print(f\"Original class distribution: {y_train.value_counts()}\")\n",
    "print(f\"After SMOTE class distribution: {y_train_smote.value_counts()}\")"
   ]
  },
  {
   "cell_type": "markdown",
   "id": "b2ea19fa",
   "metadata": {},
   "source": [
    "model"
   ]
  },
  {
   "cell_type": "code",
   "execution_count": 98,
   "id": "37ab108a",
   "metadata": {},
   "outputs": [
    {
     "name": "stdout",
     "output_type": "stream",
     "text": [
      "Model Architecture:\n"
     ]
    },
    {
     "name": "stderr",
     "output_type": "stream",
     "text": [
      "c:\\Users\\ElifYilmaz\\OneDrive - Enpal B.V\\Desktop\\New folder\\Project\\.venv\\Lib\\site-packages\\keras\\src\\layers\\core\\dense.py:92: UserWarning: Do not pass an `input_shape`/`input_dim` argument to a layer. When using Sequential models, prefer using an `Input(shape)` object as the first layer in the model instead.\n",
      "  super().__init__(activity_regularizer=activity_regularizer, **kwargs)\n"
     ]
    },
    {
     "data": {
      "text/html": [
       "<pre style=\"white-space:pre;overflow-x:auto;line-height:normal;font-family:Menlo,'DejaVu Sans Mono',consolas,'Courier New',monospace\"><span style=\"font-weight: bold\">Model: \"sequential\"</span>\n",
       "</pre>\n"
      ],
      "text/plain": [
       "\u001b[1mModel: \"sequential\"\u001b[0m\n"
      ]
     },
     "metadata": {},
     "output_type": "display_data"
    },
    {
     "data": {
      "text/html": [
       "<pre style=\"white-space:pre;overflow-x:auto;line-height:normal;font-family:Menlo,'DejaVu Sans Mono',consolas,'Courier New',monospace\">┏━━━━━━━━━━━━━━━━━━━━━━━━━━━━━━━━━┳━━━━━━━━━━━━━━━━━━━━━━━━┳━━━━━━━━━━━━━━━┓\n",
       "┃<span style=\"font-weight: bold\"> Layer (type)                    </span>┃<span style=\"font-weight: bold\"> Output Shape           </span>┃<span style=\"font-weight: bold\">       Param # </span>┃\n",
       "┡━━━━━━━━━━━━━━━━━━━━━━━━━━━━━━━━━╇━━━━━━━━━━━━━━━━━━━━━━━━╇━━━━━━━━━━━━━━━┩\n",
       "│ dense (<span style=\"color: #0087ff; text-decoration-color: #0087ff\">Dense</span>)                   │ (<span style=\"color: #00d7ff; text-decoration-color: #00d7ff\">None</span>, <span style=\"color: #00af00; text-decoration-color: #00af00\">128</span>)            │        <span style=\"color: #00af00; text-decoration-color: #00af00\">10,624</span> │\n",
       "├─────────────────────────────────┼────────────────────────┼───────────────┤\n",
       "│ batch_normalization             │ (<span style=\"color: #00d7ff; text-decoration-color: #00d7ff\">None</span>, <span style=\"color: #00af00; text-decoration-color: #00af00\">128</span>)            │           <span style=\"color: #00af00; text-decoration-color: #00af00\">512</span> │\n",
       "│ (<span style=\"color: #0087ff; text-decoration-color: #0087ff\">BatchNormalization</span>)            │                        │               │\n",
       "├─────────────────────────────────┼────────────────────────┼───────────────┤\n",
       "│ dropout (<span style=\"color: #0087ff; text-decoration-color: #0087ff\">Dropout</span>)               │ (<span style=\"color: #00d7ff; text-decoration-color: #00d7ff\">None</span>, <span style=\"color: #00af00; text-decoration-color: #00af00\">128</span>)            │             <span style=\"color: #00af00; text-decoration-color: #00af00\">0</span> │\n",
       "├─────────────────────────────────┼────────────────────────┼───────────────┤\n",
       "│ dense_1 (<span style=\"color: #0087ff; text-decoration-color: #0087ff\">Dense</span>)                 │ (<span style=\"color: #00d7ff; text-decoration-color: #00d7ff\">None</span>, <span style=\"color: #00af00; text-decoration-color: #00af00\">64</span>)             │         <span style=\"color: #00af00; text-decoration-color: #00af00\">8,256</span> │\n",
       "├─────────────────────────────────┼────────────────────────┼───────────────┤\n",
       "│ batch_normalization_1           │ (<span style=\"color: #00d7ff; text-decoration-color: #00d7ff\">None</span>, <span style=\"color: #00af00; text-decoration-color: #00af00\">64</span>)             │           <span style=\"color: #00af00; text-decoration-color: #00af00\">256</span> │\n",
       "│ (<span style=\"color: #0087ff; text-decoration-color: #0087ff\">BatchNormalization</span>)            │                        │               │\n",
       "├─────────────────────────────────┼────────────────────────┼───────────────┤\n",
       "│ dropout_1 (<span style=\"color: #0087ff; text-decoration-color: #0087ff\">Dropout</span>)             │ (<span style=\"color: #00d7ff; text-decoration-color: #00d7ff\">None</span>, <span style=\"color: #00af00; text-decoration-color: #00af00\">64</span>)             │             <span style=\"color: #00af00; text-decoration-color: #00af00\">0</span> │\n",
       "├─────────────────────────────────┼────────────────────────┼───────────────┤\n",
       "│ dense_2 (<span style=\"color: #0087ff; text-decoration-color: #0087ff\">Dense</span>)                 │ (<span style=\"color: #00d7ff; text-decoration-color: #00d7ff\">None</span>, <span style=\"color: #00af00; text-decoration-color: #00af00\">32</span>)             │         <span style=\"color: #00af00; text-decoration-color: #00af00\">2,080</span> │\n",
       "├─────────────────────────────────┼────────────────────────┼───────────────┤\n",
       "│ dropout_2 (<span style=\"color: #0087ff; text-decoration-color: #0087ff\">Dropout</span>)             │ (<span style=\"color: #00d7ff; text-decoration-color: #00d7ff\">None</span>, <span style=\"color: #00af00; text-decoration-color: #00af00\">32</span>)             │             <span style=\"color: #00af00; text-decoration-color: #00af00\">0</span> │\n",
       "├─────────────────────────────────┼────────────────────────┼───────────────┤\n",
       "│ dense_3 (<span style=\"color: #0087ff; text-decoration-color: #0087ff\">Dense</span>)                 │ (<span style=\"color: #00d7ff; text-decoration-color: #00d7ff\">None</span>, <span style=\"color: #00af00; text-decoration-color: #00af00\">1</span>)              │            <span style=\"color: #00af00; text-decoration-color: #00af00\">33</span> │\n",
       "└─────────────────────────────────┴────────────────────────┴───────────────┘\n",
       "</pre>\n"
      ],
      "text/plain": [
       "┏━━━━━━━━━━━━━━━━━━━━━━━━━━━━━━━━━┳━━━━━━━━━━━━━━━━━━━━━━━━┳━━━━━━━━━━━━━━━┓\n",
       "┃\u001b[1m \u001b[0m\u001b[1mLayer (type)                   \u001b[0m\u001b[1m \u001b[0m┃\u001b[1m \u001b[0m\u001b[1mOutput Shape          \u001b[0m\u001b[1m \u001b[0m┃\u001b[1m \u001b[0m\u001b[1m      Param #\u001b[0m\u001b[1m \u001b[0m┃\n",
       "┡━━━━━━━━━━━━━━━━━━━━━━━━━━━━━━━━━╇━━━━━━━━━━━━━━━━━━━━━━━━╇━━━━━━━━━━━━━━━┩\n",
       "│ dense (\u001b[38;5;33mDense\u001b[0m)                   │ (\u001b[38;5;45mNone\u001b[0m, \u001b[38;5;34m128\u001b[0m)            │        \u001b[38;5;34m10,624\u001b[0m │\n",
       "├─────────────────────────────────┼────────────────────────┼───────────────┤\n",
       "│ batch_normalization             │ (\u001b[38;5;45mNone\u001b[0m, \u001b[38;5;34m128\u001b[0m)            │           \u001b[38;5;34m512\u001b[0m │\n",
       "│ (\u001b[38;5;33mBatchNormalization\u001b[0m)            │                        │               │\n",
       "├─────────────────────────────────┼────────────────────────┼───────────────┤\n",
       "│ dropout (\u001b[38;5;33mDropout\u001b[0m)               │ (\u001b[38;5;45mNone\u001b[0m, \u001b[38;5;34m128\u001b[0m)            │             \u001b[38;5;34m0\u001b[0m │\n",
       "├─────────────────────────────────┼────────────────────────┼───────────────┤\n",
       "│ dense_1 (\u001b[38;5;33mDense\u001b[0m)                 │ (\u001b[38;5;45mNone\u001b[0m, \u001b[38;5;34m64\u001b[0m)             │         \u001b[38;5;34m8,256\u001b[0m │\n",
       "├─────────────────────────────────┼────────────────────────┼───────────────┤\n",
       "│ batch_normalization_1           │ (\u001b[38;5;45mNone\u001b[0m, \u001b[38;5;34m64\u001b[0m)             │           \u001b[38;5;34m256\u001b[0m │\n",
       "│ (\u001b[38;5;33mBatchNormalization\u001b[0m)            │                        │               │\n",
       "├─────────────────────────────────┼────────────────────────┼───────────────┤\n",
       "│ dropout_1 (\u001b[38;5;33mDropout\u001b[0m)             │ (\u001b[38;5;45mNone\u001b[0m, \u001b[38;5;34m64\u001b[0m)             │             \u001b[38;5;34m0\u001b[0m │\n",
       "├─────────────────────────────────┼────────────────────────┼───────────────┤\n",
       "│ dense_2 (\u001b[38;5;33mDense\u001b[0m)                 │ (\u001b[38;5;45mNone\u001b[0m, \u001b[38;5;34m32\u001b[0m)             │         \u001b[38;5;34m2,080\u001b[0m │\n",
       "├─────────────────────────────────┼────────────────────────┼───────────────┤\n",
       "│ dropout_2 (\u001b[38;5;33mDropout\u001b[0m)             │ (\u001b[38;5;45mNone\u001b[0m, \u001b[38;5;34m32\u001b[0m)             │             \u001b[38;5;34m0\u001b[0m │\n",
       "├─────────────────────────────────┼────────────────────────┼───────────────┤\n",
       "│ dense_3 (\u001b[38;5;33mDense\u001b[0m)                 │ (\u001b[38;5;45mNone\u001b[0m, \u001b[38;5;34m1\u001b[0m)              │            \u001b[38;5;34m33\u001b[0m │\n",
       "└─────────────────────────────────┴────────────────────────┴───────────────┘\n"
      ]
     },
     "metadata": {},
     "output_type": "display_data"
    },
    {
     "data": {
      "text/html": [
       "<pre style=\"white-space:pre;overflow-x:auto;line-height:normal;font-family:Menlo,'DejaVu Sans Mono',consolas,'Courier New',monospace\"><span style=\"font-weight: bold\"> Total params: </span><span style=\"color: #00af00; text-decoration-color: #00af00\">21,761</span> (85.00 KB)\n",
       "</pre>\n"
      ],
      "text/plain": [
       "\u001b[1m Total params: \u001b[0m\u001b[38;5;34m21,761\u001b[0m (85.00 KB)\n"
      ]
     },
     "metadata": {},
     "output_type": "display_data"
    },
    {
     "data": {
      "text/html": [
       "<pre style=\"white-space:pre;overflow-x:auto;line-height:normal;font-family:Menlo,'DejaVu Sans Mono',consolas,'Courier New',monospace\"><span style=\"font-weight: bold\"> Trainable params: </span><span style=\"color: #00af00; text-decoration-color: #00af00\">21,377</span> (83.50 KB)\n",
       "</pre>\n"
      ],
      "text/plain": [
       "\u001b[1m Trainable params: \u001b[0m\u001b[38;5;34m21,377\u001b[0m (83.50 KB)\n"
      ]
     },
     "metadata": {},
     "output_type": "display_data"
    },
    {
     "data": {
      "text/html": [
       "<pre style=\"white-space:pre;overflow-x:auto;line-height:normal;font-family:Menlo,'DejaVu Sans Mono',consolas,'Courier New',monospace\"><span style=\"font-weight: bold\"> Non-trainable params: </span><span style=\"color: #00af00; text-decoration-color: #00af00\">384</span> (1.50 KB)\n",
       "</pre>\n"
      ],
      "text/plain": [
       "\u001b[1m Non-trainable params: \u001b[0m\u001b[38;5;34m384\u001b[0m (1.50 KB)\n"
      ]
     },
     "metadata": {},
     "output_type": "display_data"
    },
    {
     "name": "stdout",
     "output_type": "stream",
     "text": [
      "\n",
      "Training the model...\n",
      "Epoch 1/100\n",
      "\u001b[1m753/753\u001b[0m \u001b[32m━━━━━━━━━━━━━━━━━━━━\u001b[0m\u001b[37m\u001b[0m \u001b[1m5s\u001b[0m 4ms/step - accuracy: 0.8407 - loss: 0.3473 - precision: 0.7872 - recall: 0.7882 - val_accuracy: 0.9520 - val_loss: 0.1701 - val_precision: 1.0000 - val_recall: 0.9520 - learning_rate: 0.0010\n",
      "Epoch 2/100\n",
      "\u001b[1m753/753\u001b[0m \u001b[32m━━━━━━━━━━━━━━━━━━━━\u001b[0m\u001b[37m\u001b[0m \u001b[1m2s\u001b[0m 3ms/step - accuracy: 0.9137 - loss: 0.2094 - precision: 0.8885 - recall: 0.8804 - val_accuracy: 0.9620 - val_loss: 0.1249 - val_precision: 1.0000 - val_recall: 0.9620 - learning_rate: 0.0010\n",
      "Epoch 3/100\n",
      "\u001b[1m753/753\u001b[0m \u001b[32m━━━━━━━━━━━━━━━━━━━━\u001b[0m\u001b[37m\u001b[0m \u001b[1m2s\u001b[0m 3ms/step - accuracy: 0.9269 - loss: 0.1806 - precision: 0.9049 - recall: 0.8998 - val_accuracy: 0.9154 - val_loss: 0.1874 - val_precision: 1.0000 - val_recall: 0.9154 - learning_rate: 0.0010\n",
      "Epoch 4/100\n",
      "\u001b[1m753/753\u001b[0m \u001b[32m━━━━━━━━━━━━━━━━━━━━\u001b[0m\u001b[37m\u001b[0m \u001b[1m2s\u001b[0m 3ms/step - accuracy: 0.9334 - loss: 0.1657 - precision: 0.9159 - recall: 0.9055 - val_accuracy: 0.9801 - val_loss: 0.0752 - val_precision: 1.0000 - val_recall: 0.9801 - learning_rate: 0.0010\n",
      "Epoch 5/100\n",
      "\u001b[1m753/753\u001b[0m \u001b[32m━━━━━━━━━━━━━━━━━━━━\u001b[0m\u001b[37m\u001b[0m \u001b[1m2s\u001b[0m 3ms/step - accuracy: 0.9385 - loss: 0.1503 - precision: 0.9208 - recall: 0.9147 - val_accuracy: 0.9535 - val_loss: 0.1352 - val_precision: 1.0000 - val_recall: 0.9535 - learning_rate: 0.0010\n",
      "Epoch 6/100\n",
      "\u001b[1m753/753\u001b[0m \u001b[32m━━━━━━━━━━━━━━━━━━━━\u001b[0m\u001b[37m\u001b[0m \u001b[1m2s\u001b[0m 3ms/step - accuracy: 0.9438 - loss: 0.1406 - precision: 0.9274 - recall: 0.9225 - val_accuracy: 0.9646 - val_loss: 0.1040 - val_precision: 1.0000 - val_recall: 0.9646 - learning_rate: 0.0010\n",
      "Epoch 7/100\n",
      "\u001b[1m753/753\u001b[0m \u001b[32m━━━━━━━━━━━━━━━━━━━━\u001b[0m\u001b[37m\u001b[0m \u001b[1m2s\u001b[0m 3ms/step - accuracy: 0.9468 - loss: 0.1360 - precision: 0.9301 - recall: 0.9278 - val_accuracy: 0.9869 - val_loss: 0.0575 - val_precision: 1.0000 - val_recall: 0.9869 - learning_rate: 0.0010\n",
      "Epoch 8/100\n",
      "\u001b[1m753/753\u001b[0m \u001b[32m━━━━━━━━━━━━━━━━━━━━\u001b[0m\u001b[37m\u001b[0m \u001b[1m2s\u001b[0m 3ms/step - accuracy: 0.9482 - loss: 0.1343 - precision: 0.9299 - recall: 0.9322 - val_accuracy: 0.9784 - val_loss: 0.0751 - val_precision: 1.0000 - val_recall: 0.9784 - learning_rate: 0.0010\n",
      "Epoch 9/100\n",
      "\u001b[1m753/753\u001b[0m \u001b[32m━━━━━━━━━━━━━━━━━━━━\u001b[0m\u001b[37m\u001b[0m \u001b[1m2s\u001b[0m 3ms/step - accuracy: 0.9517 - loss: 0.1243 - precision: 0.9351 - recall: 0.9363 - val_accuracy: 0.9836 - val_loss: 0.0686 - val_precision: 1.0000 - val_recall: 0.9836 - learning_rate: 0.0010\n",
      "Epoch 10/100\n",
      "\u001b[1m753/753\u001b[0m \u001b[32m━━━━━━━━━━━━━━━━━━━━\u001b[0m\u001b[37m\u001b[0m \u001b[1m2s\u001b[0m 3ms/step - accuracy: 0.9532 - loss: 0.1229 - precision: 0.9334 - recall: 0.9424 - val_accuracy: 0.9764 - val_loss: 0.0777 - val_precision: 1.0000 - val_recall: 0.9764 - learning_rate: 0.0010\n",
      "Epoch 11/100\n",
      "\u001b[1m753/753\u001b[0m \u001b[32m━━━━━━━━━━━━━━━━━━━━\u001b[0m\u001b[37m\u001b[0m \u001b[1m2s\u001b[0m 3ms/step - accuracy: 0.9555 - loss: 0.1164 - precision: 0.9390 - recall: 0.9425 - val_accuracy: 0.9794 - val_loss: 0.0743 - val_precision: 1.0000 - val_recall: 0.9794 - learning_rate: 0.0010\n",
      "Epoch 12/100\n",
      "\u001b[1m753/753\u001b[0m \u001b[32m━━━━━━━━━━━━━━━━━━━━\u001b[0m\u001b[37m\u001b[0m \u001b[1m2s\u001b[0m 3ms/step - accuracy: 0.9548 - loss: 0.1157 - precision: 0.9369 - recall: 0.9431 - val_accuracy: 0.9849 - val_loss: 0.0654 - val_precision: 1.0000 - val_recall: 0.9849 - learning_rate: 0.0010\n",
      "Epoch 13/100\n",
      "\u001b[1m753/753\u001b[0m \u001b[32m━━━━━━━━━━━━━━━━━━━━\u001b[0m\u001b[37m\u001b[0m \u001b[1m2s\u001b[0m 3ms/step - accuracy: 0.9602 - loss: 0.1042 - precision: 0.9433 - recall: 0.9510 - val_accuracy: 0.9870 - val_loss: 0.0590 - val_precision: 1.0000 - val_recall: 0.9870 - learning_rate: 5.0000e-04\n",
      "Epoch 14/100\n",
      "\u001b[1m753/753\u001b[0m \u001b[32m━━━━━━━━━━━━━━━━━━━━\u001b[0m\u001b[37m\u001b[0m \u001b[1m3s\u001b[0m 4ms/step - accuracy: 0.9624 - loss: 0.1012 - precision: 0.9479 - recall: 0.9520 - val_accuracy: 0.9872 - val_loss: 0.0518 - val_precision: 1.0000 - val_recall: 0.9872 - learning_rate: 5.0000e-04\n",
      "Epoch 15/100\n",
      "\u001b[1m753/753\u001b[0m \u001b[32m━━━━━━━━━━━━━━━━━━━━\u001b[0m\u001b[37m\u001b[0m \u001b[1m2s\u001b[0m 3ms/step - accuracy: 0.9624 - loss: 0.0994 - precision: 0.9469 - recall: 0.9533 - val_accuracy: 0.9882 - val_loss: 0.0512 - val_precision: 1.0000 - val_recall: 0.9882 - learning_rate: 5.0000e-04\n",
      "Epoch 16/100\n",
      "\u001b[1m753/753\u001b[0m \u001b[32m━━━━━━━━━━━━━━━━━━━━\u001b[0m\u001b[37m\u001b[0m \u001b[1m2s\u001b[0m 3ms/step - accuracy: 0.9644 - loss: 0.0951 - precision: 0.9496 - recall: 0.9558 - val_accuracy: 0.9925 - val_loss: 0.0375 - val_precision: 1.0000 - val_recall: 0.9925 - learning_rate: 5.0000e-04\n",
      "Epoch 17/100\n",
      "\u001b[1m753/753\u001b[0m \u001b[32m━━━━━━━━━━━━━━━━━━━━\u001b[0m\u001b[37m\u001b[0m \u001b[1m2s\u001b[0m 3ms/step - accuracy: 0.9629 - loss: 0.0987 - precision: 0.9497 - recall: 0.9516 - val_accuracy: 0.9889 - val_loss: 0.0468 - val_precision: 1.0000 - val_recall: 0.9889 - learning_rate: 5.0000e-04\n",
      "Epoch 18/100\n",
      "\u001b[1m753/753\u001b[0m \u001b[32m━━━━━━━━━━━━━━━━━━━━\u001b[0m\u001b[37m\u001b[0m \u001b[1m3s\u001b[0m 3ms/step - accuracy: 0.9665 - loss: 0.0922 - precision: 0.9525 - recall: 0.9584 - val_accuracy: 0.9834 - val_loss: 0.0600 - val_precision: 1.0000 - val_recall: 0.9834 - learning_rate: 5.0000e-04\n",
      "Epoch 19/100\n",
      "\u001b[1m753/753\u001b[0m \u001b[32m━━━━━━━━━━━━━━━━━━━━\u001b[0m\u001b[37m\u001b[0m \u001b[1m2s\u001b[0m 3ms/step - accuracy: 0.9667 - loss: 0.0910 - precision: 0.9541 - recall: 0.9574 - val_accuracy: 0.9887 - val_loss: 0.0423 - val_precision: 1.0000 - val_recall: 0.9887 - learning_rate: 5.0000e-04\n",
      "Epoch 20/100\n",
      "\u001b[1m753/753\u001b[0m \u001b[32m━━━━━━━━━━━━━━━━━━━━\u001b[0m\u001b[37m\u001b[0m \u001b[1m2s\u001b[0m 3ms/step - accuracy: 0.9663 - loss: 0.0928 - precision: 0.9532 - recall: 0.9570 - val_accuracy: 0.9917 - val_loss: 0.0446 - val_precision: 1.0000 - val_recall: 0.9917 - learning_rate: 5.0000e-04\n",
      "Epoch 21/100\n",
      "\u001b[1m753/753\u001b[0m \u001b[32m━━━━━━━━━━━━━━━━━━━━\u001b[0m\u001b[37m\u001b[0m \u001b[1m2s\u001b[0m 3ms/step - accuracy: 0.9669 - loss: 0.0889 - precision: 0.9534 - recall: 0.9585 - val_accuracy: 0.9890 - val_loss: 0.0489 - val_precision: 1.0000 - val_recall: 0.9890 - learning_rate: 5.0000e-04\n",
      "Epoch 22/100\n",
      "\u001b[1m753/753\u001b[0m \u001b[32m━━━━━━━━━━━━━━━━━━━━\u001b[0m\u001b[37m\u001b[0m \u001b[1m2s\u001b[0m 3ms/step - accuracy: 0.9679 - loss: 0.0866 - precision: 0.9565 - recall: 0.9578 - val_accuracy: 0.9914 - val_loss: 0.0389 - val_precision: 1.0000 - val_recall: 0.9914 - learning_rate: 2.5000e-04\n",
      "Epoch 23/100\n",
      "\u001b[1m753/753\u001b[0m \u001b[32m━━━━━━━━━━━━━━━━━━━━\u001b[0m\u001b[37m\u001b[0m \u001b[1m2s\u001b[0m 3ms/step - accuracy: 0.9710 - loss: 0.0822 - precision: 0.9585 - recall: 0.9644 - val_accuracy: 0.9924 - val_loss: 0.0374 - val_precision: 1.0000 - val_recall: 0.9924 - learning_rate: 2.5000e-04\n",
      "Epoch 24/100\n",
      "\u001b[1m753/753\u001b[0m \u001b[32m━━━━━━━━━━━━━━━━━━━━\u001b[0m\u001b[37m\u001b[0m \u001b[1m2s\u001b[0m 3ms/step - accuracy: 0.9689 - loss: 0.0854 - precision: 0.9566 - recall: 0.9606 - val_accuracy: 0.9880 - val_loss: 0.0462 - val_precision: 1.0000 - val_recall: 0.9880 - learning_rate: 2.5000e-04\n",
      "Epoch 25/100\n",
      "\u001b[1m753/753\u001b[0m \u001b[32m━━━━━━━━━━━━━━━━━━━━\u001b[0m\u001b[37m\u001b[0m \u001b[1m2s\u001b[0m 3ms/step - accuracy: 0.9705 - loss: 0.0806 - precision: 0.9598 - recall: 0.9617 - val_accuracy: 0.9930 - val_loss: 0.0383 - val_precision: 1.0000 - val_recall: 0.9930 - learning_rate: 2.5000e-04\n",
      "Epoch 26/100\n",
      "\u001b[1m753/753\u001b[0m \u001b[32m━━━━━━━━━━━━━━━━━━━━\u001b[0m\u001b[37m\u001b[0m \u001b[1m2s\u001b[0m 3ms/step - accuracy: 0.9709 - loss: 0.0806 - precision: 0.9595 - recall: 0.9631 - val_accuracy: 0.9922 - val_loss: 0.0331 - val_precision: 1.0000 - val_recall: 0.9922 - learning_rate: 2.5000e-04\n",
      "Epoch 27/100\n",
      "\u001b[1m753/753\u001b[0m \u001b[32m━━━━━━━━━━━━━━━━━━━━\u001b[0m\u001b[37m\u001b[0m \u001b[1m2s\u001b[0m 3ms/step - accuracy: 0.9701 - loss: 0.0819 - precision: 0.9584 - recall: 0.9621 - val_accuracy: 0.9914 - val_loss: 0.0413 - val_precision: 1.0000 - val_recall: 0.9914 - learning_rate: 2.5000e-04\n",
      "Epoch 28/100\n",
      "\u001b[1m753/753\u001b[0m \u001b[32m━━━━━━━━━━━━━━━━━━━━\u001b[0m\u001b[37m\u001b[0m \u001b[1m3s\u001b[0m 3ms/step - accuracy: 0.9708 - loss: 0.0796 - precision: 0.9594 - recall: 0.9630 - val_accuracy: 0.9932 - val_loss: 0.0345 - val_precision: 1.0000 - val_recall: 0.9932 - learning_rate: 2.5000e-04\n",
      "Epoch 29/100\n",
      "\u001b[1m753/753\u001b[0m \u001b[32m━━━━━━━━━━━━━━━━━━━━\u001b[0m\u001b[37m\u001b[0m \u001b[1m2s\u001b[0m 3ms/step - accuracy: 0.9707 - loss: 0.0800 - precision: 0.9599 - recall: 0.9620 - val_accuracy: 0.9929 - val_loss: 0.0353 - val_precision: 1.0000 - val_recall: 0.9929 - learning_rate: 2.5000e-04\n",
      "Epoch 30/100\n",
      "\u001b[1m753/753\u001b[0m \u001b[32m━━━━━━━━━━━━━━━━━━━━\u001b[0m\u001b[37m\u001b[0m \u001b[1m2s\u001b[0m 3ms/step - accuracy: 0.9727 - loss: 0.0788 - precision: 0.9627 - recall: 0.9646 - val_accuracy: 0.9935 - val_loss: 0.0349 - val_precision: 1.0000 - val_recall: 0.9935 - learning_rate: 2.5000e-04\n",
      "Epoch 31/100\n",
      "\u001b[1m753/753\u001b[0m \u001b[32m━━━━━━━━━━━━━━━━━━━━\u001b[0m\u001b[37m\u001b[0m \u001b[1m3s\u001b[0m 3ms/step - accuracy: 0.9725 - loss: 0.0754 - precision: 0.9626 - recall: 0.9640 - val_accuracy: 0.9915 - val_loss: 0.0382 - val_precision: 1.0000 - val_recall: 0.9915 - learning_rate: 2.5000e-04\n",
      "Epoch 32/100\n",
      "\u001b[1m753/753\u001b[0m \u001b[32m━━━━━━━━━━━━━━━━━━━━\u001b[0m\u001b[37m\u001b[0m \u001b[1m3s\u001b[0m 4ms/step - accuracy: 0.9707 - loss: 0.0807 - precision: 0.9608 - recall: 0.9611 - val_accuracy: 0.9935 - val_loss: 0.0297 - val_precision: 1.0000 - val_recall: 0.9935 - learning_rate: 1.2500e-04\n",
      "Epoch 33/100\n",
      "\u001b[1m753/753\u001b[0m \u001b[32m━━━━━━━━━━━━━━━━━━━━\u001b[0m\u001b[37m\u001b[0m \u001b[1m3s\u001b[0m 4ms/step - accuracy: 0.9725 - loss: 0.0746 - precision: 0.9599 - recall: 0.9670 - val_accuracy: 0.9924 - val_loss: 0.0366 - val_precision: 1.0000 - val_recall: 0.9924 - learning_rate: 1.2500e-04\n",
      "Epoch 34/100\n",
      "\u001b[1m753/753\u001b[0m \u001b[32m━━━━━━━━━━━━━━━━━━━━\u001b[0m\u001b[37m\u001b[0m \u001b[1m3s\u001b[0m 4ms/step - accuracy: 0.9736 - loss: 0.0746 - precision: 0.9630 - recall: 0.9667 - val_accuracy: 0.9935 - val_loss: 0.0338 - val_precision: 1.0000 - val_recall: 0.9935 - learning_rate: 1.2500e-04\n",
      "Epoch 35/100\n",
      "\u001b[1m753/753\u001b[0m \u001b[32m━━━━━━━━━━━━━━━━━━━━\u001b[0m\u001b[37m\u001b[0m \u001b[1m4s\u001b[0m 5ms/step - accuracy: 0.9744 - loss: 0.0726 - precision: 0.9628 - recall: 0.9691 - val_accuracy: 0.9939 - val_loss: 0.0321 - val_precision: 1.0000 - val_recall: 0.9939 - learning_rate: 1.2500e-04\n",
      "Epoch 36/100\n",
      "\u001b[1m753/753\u001b[0m \u001b[32m━━━━━━━━━━━━━━━━━━━━\u001b[0m\u001b[37m\u001b[0m \u001b[1m3s\u001b[0m 4ms/step - accuracy: 0.9729 - loss: 0.0728 - precision: 0.9620 - recall: 0.9658 - val_accuracy: 0.9939 - val_loss: 0.0307 - val_precision: 1.0000 - val_recall: 0.9939 - learning_rate: 1.2500e-04\n",
      "Epoch 37/100\n",
      "\u001b[1m753/753\u001b[0m \u001b[32m━━━━━━━━━━━━━━━━━━━━\u001b[0m\u001b[37m\u001b[0m \u001b[1m3s\u001b[0m 5ms/step - accuracy: 0.9738 - loss: 0.0707 - precision: 0.9633 - recall: 0.9670 - val_accuracy: 0.9945 - val_loss: 0.0282 - val_precision: 1.0000 - val_recall: 0.9945 - learning_rate: 1.2500e-04\n",
      "Epoch 38/100\n",
      "\u001b[1m753/753\u001b[0m \u001b[32m━━━━━━━━━━━━━━━━━━━━\u001b[0m\u001b[37m\u001b[0m \u001b[1m3s\u001b[0m 3ms/step - accuracy: 0.9748 - loss: 0.0719 - precision: 0.9656 - recall: 0.9672 - val_accuracy: 0.9944 - val_loss: 0.0278 - val_precision: 1.0000 - val_recall: 0.9944 - learning_rate: 1.2500e-04\n",
      "Epoch 39/100\n",
      "\u001b[1m753/753\u001b[0m \u001b[32m━━━━━━━━━━━━━━━━━━━━\u001b[0m\u001b[37m\u001b[0m \u001b[1m3s\u001b[0m 4ms/step - accuracy: 0.9746 - loss: 0.0727 - precision: 0.9651 - recall: 0.9672 - val_accuracy: 0.9944 - val_loss: 0.0289 - val_precision: 1.0000 - val_recall: 0.9944 - learning_rate: 1.2500e-04\n",
      "Epoch 40/100\n",
      "\u001b[1m753/753\u001b[0m \u001b[32m━━━━━━━━━━━━━━━━━━━━\u001b[0m\u001b[37m\u001b[0m \u001b[1m3s\u001b[0m 4ms/step - accuracy: 0.9743 - loss: 0.0745 - precision: 0.9641 - recall: 0.9675 - val_accuracy: 0.9944 - val_loss: 0.0299 - val_precision: 1.0000 - val_recall: 0.9944 - learning_rate: 1.2500e-04\n",
      "Epoch 41/100\n",
      "\u001b[1m753/753\u001b[0m \u001b[32m━━━━━━━━━━━━━━━━━━━━\u001b[0m\u001b[37m\u001b[0m \u001b[1m3s\u001b[0m 3ms/step - accuracy: 0.9743 - loss: 0.0714 - precision: 0.9631 - recall: 0.9687 - val_accuracy: 0.9929 - val_loss: 0.0345 - val_precision: 1.0000 - val_recall: 0.9929 - learning_rate: 1.2500e-04\n",
      "Epoch 42/100\n",
      "\u001b[1m753/753\u001b[0m \u001b[32m━━━━━━━━━━━━━━━━━━━━\u001b[0m\u001b[37m\u001b[0m \u001b[1m2s\u001b[0m 3ms/step - accuracy: 0.9746 - loss: 0.0697 - precision: 0.9647 - recall: 0.9678 - val_accuracy: 0.9937 - val_loss: 0.0300 - val_precision: 1.0000 - val_recall: 0.9937 - learning_rate: 1.2500e-04\n",
      "Epoch 43/100\n",
      "\u001b[1m753/753\u001b[0m \u001b[32m━━━━━━━━━━━━━━━━━━━━\u001b[0m\u001b[37m\u001b[0m \u001b[1m3s\u001b[0m 3ms/step - accuracy: 0.9749 - loss: 0.0716 - precision: 0.9651 - recall: 0.9681 - val_accuracy: 0.9948 - val_loss: 0.0270 - val_precision: 1.0000 - val_recall: 0.9948 - learning_rate: 1.2500e-04\n",
      "Epoch 44/100\n",
      "\u001b[1m753/753\u001b[0m \u001b[32m━━━━━━━━━━━━━━━━━━━━\u001b[0m\u001b[37m\u001b[0m \u001b[1m4s\u001b[0m 2ms/step - accuracy: 0.9745 - loss: 0.0703 - precision: 0.9630 - recall: 0.9692 - val_accuracy: 0.9937 - val_loss: 0.0283 - val_precision: 1.0000 - val_recall: 0.9937 - learning_rate: 1.2500e-04\n",
      "Epoch 45/100\n",
      "\u001b[1m753/753\u001b[0m \u001b[32m━━━━━━━━━━━━━━━━━━━━\u001b[0m\u001b[37m\u001b[0m \u001b[1m3s\u001b[0m 3ms/step - accuracy: 0.9741 - loss: 0.0695 - precision: 0.9632 - recall: 0.9680 - val_accuracy: 0.9940 - val_loss: 0.0288 - val_precision: 1.0000 - val_recall: 0.9940 - learning_rate: 1.2500e-04\n",
      "Epoch 46/100\n",
      "\u001b[1m753/753\u001b[0m \u001b[32m━━━━━━━━━━━━━━━━━━━━\u001b[0m\u001b[37m\u001b[0m \u001b[1m2s\u001b[0m 3ms/step - accuracy: 0.9737 - loss: 0.0724 - precision: 0.9645 - recall: 0.9654 - val_accuracy: 0.9939 - val_loss: 0.0305 - val_precision: 1.0000 - val_recall: 0.9939 - learning_rate: 1.2500e-04\n",
      "Epoch 47/100\n",
      "\u001b[1m753/753\u001b[0m \u001b[32m━━━━━━━━━━━━━━━━━━━━\u001b[0m\u001b[37m\u001b[0m \u001b[1m3s\u001b[0m 3ms/step - accuracy: 0.9744 - loss: 0.0698 - precision: 0.9657 - recall: 0.9661 - val_accuracy: 0.9930 - val_loss: 0.0316 - val_precision: 1.0000 - val_recall: 0.9930 - learning_rate: 1.2500e-04\n",
      "Epoch 48/100\n",
      "\u001b[1m753/753\u001b[0m \u001b[32m━━━━━━━━━━━━━━━━━━━━\u001b[0m\u001b[37m\u001b[0m \u001b[1m2s\u001b[0m 3ms/step - accuracy: 0.9734 - loss: 0.0731 - precision: 0.9633 - recall: 0.9659 - val_accuracy: 0.9930 - val_loss: 0.0346 - val_precision: 1.0000 - val_recall: 0.9930 - learning_rate: 1.2500e-04\n",
      "Epoch 49/100\n",
      "\u001b[1m753/753\u001b[0m \u001b[32m━━━━━━━━━━━━━━━━━━━━\u001b[0m\u001b[37m\u001b[0m \u001b[1m2s\u001b[0m 3ms/step - accuracy: 0.9745 - loss: 0.0733 - precision: 0.9664 - recall: 0.9654 - val_accuracy: 0.9935 - val_loss: 0.0311 - val_precision: 1.0000 - val_recall: 0.9935 - learning_rate: 6.2500e-05\n",
      "Epoch 50/100\n",
      "\u001b[1m753/753\u001b[0m \u001b[32m━━━━━━━━━━━━━━━━━━━━\u001b[0m\u001b[37m\u001b[0m \u001b[1m3s\u001b[0m 3ms/step - accuracy: 0.9733 - loss: 0.0725 - precision: 0.9629 - recall: 0.9661 - val_accuracy: 0.9937 - val_loss: 0.0308 - val_precision: 1.0000 - val_recall: 0.9937 - learning_rate: 6.2500e-05\n",
      "Epoch 51/100\n",
      "\u001b[1m753/753\u001b[0m \u001b[32m━━━━━━━━━━━━━━━━━━━━\u001b[0m\u001b[37m\u001b[0m \u001b[1m3s\u001b[0m 3ms/step - accuracy: 0.9764 - loss: 0.0682 - precision: 0.9676 - recall: 0.9696 - val_accuracy: 0.9939 - val_loss: 0.0284 - val_precision: 1.0000 - val_recall: 0.9939 - learning_rate: 6.2500e-05\n",
      "Epoch 52/100\n",
      "\u001b[1m753/753\u001b[0m \u001b[32m━━━━━━━━━━━━━━━━━━━━\u001b[0m\u001b[37m\u001b[0m \u001b[1m2s\u001b[0m 3ms/step - accuracy: 0.9749 - loss: 0.0700 - precision: 0.9651 - recall: 0.9680 - val_accuracy: 0.9934 - val_loss: 0.0302 - val_precision: 1.0000 - val_recall: 0.9934 - learning_rate: 6.2500e-05\n",
      "Epoch 53/100\n",
      "\u001b[1m753/753\u001b[0m \u001b[32m━━━━━━━━━━━━━━━━━━━━\u001b[0m\u001b[37m\u001b[0m \u001b[1m3s\u001b[0m 3ms/step - accuracy: 0.9757 - loss: 0.0687 - precision: 0.9662 - recall: 0.9690 - val_accuracy: 0.9934 - val_loss: 0.0301 - val_precision: 1.0000 - val_recall: 0.9934 - learning_rate: 6.2500e-05\n",
      "\n",
      "Making predictions...\n",
      "\u001b[1m121/121\u001b[0m \u001b[32m━━━━━━━━━━━━━━━━━━━━\u001b[0m\u001b[37m\u001b[0m \u001b[1m0s\u001b[0m 2ms/step\n",
      "\n",
      "=== MODEL EVALUATION ===\n",
      "\n",
      "Classification Report:\n",
      "              precision    recall  f1-score   support\n",
      "\n",
      "         0.0       0.98      0.98      0.98      3762\n",
      "         1.0       0.12      0.15      0.13        87\n",
      "\n",
      "    accuracy                           0.96      3849\n",
      "   macro avg       0.55      0.56      0.56      3849\n",
      "weighted avg       0.96      0.96      0.96      3849\n",
      "\n",
      "\n",
      "ROC AUC Score: 0.8031\n",
      "\n",
      "Confusion Matrix:\n",
      "[[3668   94]\n",
      " [  74   13]]\n",
      "\n",
      "Specificity (True Negative Rate): 0.9750\n",
      "Sensitivity (Recall): 0.1494\n",
      "\n",
      "=== TRAINING COMPLETE ===\n",
      "Use y_pred_proba for probability predictions\n",
      "Use y_pred for binary predictions\n"
     ]
    }
   ],
   "source": [
    "import tensorflow as tf\n",
    "from tensorflow.keras.models import Sequential\n",
    "from tensorflow.keras.layers import Dense, Dropout, BatchNormalization\n",
    "from tensorflow.keras.optimizers import Adam\n",
    "from tensorflow.keras.callbacks import EarlyStopping, ReduceLROnPlateau\n",
    "from sklearn.metrics import classification_report, roc_auc_score, confusion_matrix\n",
    "import numpy as np\n",
    "\n",
    "# Build the neural network\n",
    "def create_model(input_dim):\n",
    "    model = Sequential([\n",
    "        # Input layer\n",
    "        Dense(128, activation='relu', input_shape=(input_dim,)),\n",
    "        BatchNormalization(),\n",
    "        Dropout(0.3),\n",
    "        \n",
    "        # Hidden layers\n",
    "        Dense(64, activation='relu'),\n",
    "        BatchNormalization(),\n",
    "        Dropout(0.3),\n",
    "        \n",
    "        Dense(32, activation='relu'),\n",
    "        Dropout(0.2),\n",
    "        \n",
    "        # Output layer (sigmoid for binary classification)\n",
    "        Dense(1, activation='sigmoid')\n",
    "    ])\n",
    "    \n",
    "    # Compile the model\n",
    "    model.compile(\n",
    "        optimizer=Adam(learning_rate=0.001),\n",
    "        loss='binary_crossentropy',\n",
    "        metrics=['accuracy', 'precision', 'recall']\n",
    "    )\n",
    "    \n",
    "    return model\n",
    "\n",
    "# Create the model\n",
    "model = create_model(X_train_smote.shape[1])\n",
    "\n",
    "# Print model summary\n",
    "print(\"Model Architecture:\")\n",
    "model.summary()\n",
    "\n",
    "# Set up callbacks\n",
    "early_stopping = EarlyStopping(\n",
    "    monitor='val_loss',\n",
    "    patience=10,\n",
    "    restore_best_weights=True\n",
    ")\n",
    "\n",
    "reduce_lr = ReduceLROnPlateau(\n",
    "    monitor='val_loss',\n",
    "    factor=0.5,\n",
    "    patience=5,\n",
    "    min_lr=1e-6\n",
    ")\n",
    "\n",
    "# Train the model\n",
    "print(\"\\nTraining the model...\")\n",
    "history = model.fit(\n",
    "    X_train_smote, y_train_smote,\n",
    "    epochs=100,\n",
    "    batch_size=32,\n",
    "    validation_split=0.2,\n",
    "    callbacks=[early_stopping, reduce_lr],\n",
    "    verbose=1\n",
    ")\n",
    "\n",
    "# Make predictions on test set\n",
    "print(\"\\nMaking predictions...\")\n",
    "y_pred_proba = model.predict(X_test)\n",
    "y_pred = (y_pred_proba > 0.5).astype(int).flatten()\n",
    "\n",
    "# Evaluate the model\n",
    "print(\"\\n=== MODEL EVALUATION ===\")\n",
    "print(\"\\nClassification Report:\")\n",
    "print(classification_report(y_test, y_pred))\n",
    "\n",
    "print(f\"\\nROC AUC Score: {roc_auc_score(y_test, y_pred_proba):.4f}\")\n",
    "\n",
    "print(\"\\nConfusion Matrix:\")\n",
    "cm = confusion_matrix(y_test, y_pred)\n",
    "print(cm)\n",
    "\n",
    "# Calculate additional metrics\n",
    "tn, fp, fn, tp = cm.ravel()\n",
    "specificity = tn / (tn + fp)\n",
    "print(f\"\\nSpecificity (True Negative Rate): {specificity:.4f}\")\n",
    "print(f\"Sensitivity (Recall): {tp / (tp + fn):.4f}\")\n",
    "\n",
    "# Plot training history (optional)\n",
    "import matplotlib.pyplot as plt\n",
    "\n",
    "def plot_training_history(history):\n",
    "    fig, axes = plt.subplots(2, 2, figsize=(12, 8))\n",
    "    \n",
    "    # Loss\n",
    "    axes[0,0].plot(history.history['loss'], label='Training Loss')\n",
    "    axes[0,0].plot(history.history['val_loss'], label='Validation Loss')\n",
    "    axes[0,0].set_title('Model Loss')\n",
    "    axes[0,0].set_xlabel('Epoch')\n",
    "    axes[0,0].set_ylabel('Loss')\n",
    "    axes[0,0].legend()\n",
    "    \n",
    "    # Accuracy\n",
    "    axes[0,1].plot(history.history['accuracy'], label='Training Accuracy')\n",
    "    axes[0,1].plot(history.history['val_accuracy'], label='Validation Accuracy')\n",
    "    axes[0,1].set_title('Model Accuracy')\n",
    "    axes[0,1].set_xlabel('Epoch')\n",
    "    axes[0,1].set_ylabel('Accuracy')\n",
    "    axes[0,1].legend()\n",
    "    \n",
    "    # Precision\n",
    "    axes[1,0].plot(history.history['precision'], label='Training Precision')\n",
    "    axes[1,0].plot(history.history['val_precision'], label='Validation Precision')\n",
    "    axes[1,0].set_title('Model Precision')\n",
    "    axes[1,0].set_xlabel('Epoch')\n",
    "    axes[1,0].set_ylabel('Precision')\n",
    "    axes[1,0].legend()\n",
    "    \n",
    "    # Recall\n",
    "    axes[1,1].plot(history.history['recall'], label='Training Recall')\n",
    "    axes[1,1].plot(history.history['val_recall'], label='Validation Recall')\n",
    "    axes[1,1].set_title('Model Recall')\n",
    "    axes[1,1].set_xlabel('Epoch')\n",
    "    axes[1,1].set_ylabel('Recall')\n",
    "    axes[1,1].legend()\n",
    "    \n",
    "    plt.tight_layout()\n",
    "    plt.show()\n",
    "\n",
    "# Uncomment to plot training history\n",
    "# plot_training_history(history)\n",
    "\n",
    "print(\"\\n=== TRAINING COMPLETE ===\")\n",
    "print(\"Use y_pred_proba for probability predictions\")\n",
    "print(\"Use y_pred for binary predictions\")"
   ]
  },
  {
   "cell_type": "code",
   "execution_count": 99,
   "id": "5ae7455d",
   "metadata": {},
   "outputs": [
    {
     "name": "stdout",
     "output_type": "stream",
     "text": [
      "Final epoch results:\n",
      "Training accuracy: 0.9757\n",
      "Validation accuracy: 0.9934\n",
      "Training loss: 0.0687\n",
      "Validation loss: 0.0301\n"
     ]
    }
   ],
   "source": [
    "# Check if model is overfitting\n",
    "print(\"Final epoch results:\")\n",
    "print(f\"Training accuracy: {history.history['accuracy'][-1]:.4f}\")\n",
    "print(f\"Validation accuracy: {history.history['val_accuracy'][-1]:.4f}\")\n",
    "print(f\"Training loss: {history.history['loss'][-1]:.4f}\")\n",
    "print(f\"Validation loss: {history.history['val_loss'][-1]:.4f}\")"
   ]
  },
  {
   "cell_type": "code",
   "execution_count": 101,
   "id": "2cdade56",
   "metadata": {},
   "outputs": [
    {
     "data": {
      "image/png": "[encoded data removed]",
      "text/plain": [
       "<Figure size 800x600 with 1 Axes>"
      ]
     },
     "metadata": {},
     "output_type": "display_data"
    },
    {
     "name": "stdout",
     "output_type": "stream",
     "text": [
      "\n",
      "With threshold 0.3:\n",
      "              precision    recall  f1-score   support\n",
      "\n",
      "         0.0       0.98      0.96      0.97      3762\n",
      "         1.0       0.11      0.18      0.13        87\n",
      "\n",
      "    accuracy                           0.95      3849\n",
      "   macro avg       0.54      0.57      0.55      3849\n",
      "weighted avg       0.96      0.95      0.95      3849\n",
      "\n"
     ]
    }
   ],
   "source": [
    "# Find optimal threshold for your business case\n",
    "from sklearn.metrics import precision_recall_curve\n",
    "\n",
    "precision, recall, thresholds = precision_recall_curve(y_test, y_pred_proba)\n",
    "\n",
    "# Plot precision-recall curve\n",
    "plt.figure(figsize=(8, 6))\n",
    "plt.plot(recall, precision)\n",
    "plt.xlabel('Recall')\n",
    "plt.ylabel('Precision')\n",
    "plt.title('Precision-Recall Curve')\n",
    "plt.show()\n",
    "\n",
    "# Try different threshold (default is 0.5)\n",
    "threshold = 0.3  # Lower threshold = catch more positive cases\n",
    "y_pred_new = (y_pred_proba > threshold).astype(int).flatten()\n",
    "print(f\"\\nWith threshold {threshold}:\")\n",
    "print(classification_report(y_test, y_pred_new))"
   ]
  },
  {
   "cell_type": "code",
   "execution_count": 102,
   "id": "2a49ce43",
   "metadata": {},
   "outputs": [
    {
     "name": "stdout",
     "output_type": "stream",
     "text": [
      "True Negatives: 3668\n",
      "False Positives: 94 (predicted purchase, didn't buy)\n",
      "False Negatives: 74 (missed customers who would buy)\n",
      "True Positives: 13 (correctly identified buyers)\n",
      "Estimated profit impact: $-65700\n"
     ]
    }
   ],
   "source": [
    "# Look at the confusion matrix breakdown\n",
    "tn, fp, fn, tp = confusion_matrix(y_test, y_pred).ravel()\n",
    "print(f\"True Negatives: {tn}\")\n",
    "print(f\"False Positives: {fp} (predicted purchase, didn't buy)\")\n",
    "print(f\"False Negatives: {fn} (missed customers who would buy)\")\n",
    "print(f\"True Positives: {tp} (correctly identified buyers)\")\n",
    "\n",
    "# Business cost analysis\n",
    "cost_per_fp = 50  # Cost of targeting someone who won't buy\n",
    "revenue_per_tp = 1000  # Revenue from correctly identified buyer\n",
    "cost_per_fn = 1000  # Lost revenue from missed buyer\n",
    "\n",
    "total_profit = (tp * revenue_per_tp) - (fp * cost_per_fp) - (fn * cost_per_fn)\n",
    "print(f\"Estimated profit impact: ${total_profit}\")"
   ]
  },
  {
   "cell_type": "markdown",
   "id": "b922d79c",
   "metadata": {},
   "source": [
    "#### end of first attempt"
   ]
  },
  {
   "cell_type": "markdown",
   "id": "c93e9866",
   "metadata": {},
   "source": []
  },
  {
   "cell_type": "code",
   "execution_count": 104,
   "id": "7b6ca6da",
   "metadata": {},
   "outputs": [
    {
     "name": "stdout",
     "output_type": "stream",
     "text": [
      "Class weights: {0: np.float64(0.5115969960789526), 1: np.float64(22.05730659025788)}\n",
      "Epoch 1/100\n"
     ]
    },
    {
     "name": "stderr",
     "output_type": "stream",
     "text": [
      "c:\\Users\\ElifYilmaz\\OneDrive - Enpal B.V\\Desktop\\New folder\\Project\\.venv\\Lib\\site-packages\\keras\\src\\layers\\core\\dense.py:92: UserWarning: Do not pass an `input_shape`/`input_dim` argument to a layer. When using Sequential models, prefer using an `Input(shape)` object as the first layer in the model instead.\n",
      "  super().__init__(activity_regularizer=activity_regularizer, **kwargs)\n"
     ]
    },
    {
     "name": "stdout",
     "output_type": "stream",
     "text": [
      "\u001b[1m385/385\u001b[0m \u001b[32m━━━━━━━━━━━━━━━━━━━━\u001b[0m\u001b[37m\u001b[0m \u001b[1m2s\u001b[0m 3ms/step - accuracy: 0.5744 - loss: 0.6972 - precision: 0.0370 - recall: 0.6923 - val_accuracy: 0.5692 - val_loss: 0.6738 - val_precision: 0.0447 - val_recall: 0.9841 - learning_rate: 0.0010\n",
      "Epoch 2/100\n",
      "\u001b[1m385/385\u001b[0m \u001b[32m━━━━━━━━━━━━━━━━━━━━\u001b[0m\u001b[37m\u001b[0m \u001b[1m1s\u001b[0m 2ms/step - accuracy: 0.6513 - loss: 0.5555 - precision: 0.0519 - recall: 0.8112 - val_accuracy: 0.6692 - val_loss: 0.5280 - val_precision: 0.0524 - val_recall: 0.8889 - learning_rate: 0.0010\n",
      "Epoch 3/100\n",
      "\u001b[1m385/385\u001b[0m \u001b[32m━━━━━━━━━━━━━━━━━━━━\u001b[0m\u001b[37m\u001b[0m \u001b[1m1s\u001b[0m 2ms/step - accuracy: 0.6902 - loss: 0.4863 - precision: 0.0590 - recall: 0.8252 - val_accuracy: 0.6614 - val_loss: 0.5033 - val_precision: 0.0537 - val_recall: 0.9365 - learning_rate: 0.0010\n",
      "Epoch 4/100\n",
      "\u001b[1m385/385\u001b[0m \u001b[32m━━━━━━━━━━━━━━━━━━━━\u001b[0m\u001b[37m\u001b[0m \u001b[1m1s\u001b[0m 2ms/step - accuracy: 0.6869 - loss: 0.4589 - precision: 0.0599 - recall: 0.8497 - val_accuracy: 0.7386 - val_loss: 0.4084 - val_precision: 0.0666 - val_recall: 0.9048 - learning_rate: 0.0010\n",
      "Epoch 5/100\n",
      "\u001b[1m385/385\u001b[0m \u001b[32m━━━━━━━━━━━━━━━━━━━━\u001b[0m\u001b[37m\u001b[0m \u001b[1m2s\u001b[0m 3ms/step - accuracy: 0.7265 - loss: 0.4459 - precision: 0.0678 - recall: 0.8462 - val_accuracy: 0.7156 - val_loss: 0.4445 - val_precision: 0.0634 - val_recall: 0.9365 - learning_rate: 0.0010\n",
      "Epoch 6/100\n",
      "\u001b[1m385/385\u001b[0m \u001b[32m━━━━━━━━━━━━━━━━━━━━\u001b[0m\u001b[37m\u001b[0m \u001b[1m2s\u001b[0m 5ms/step - accuracy: 0.7226 - loss: 0.4213 - precision: 0.0693 - recall: 0.8811 - val_accuracy: 0.7195 - val_loss: 0.4477 - val_precision: 0.0651 - val_recall: 0.9524 - learning_rate: 5.0000e-04\n",
      "Epoch 7/100\n",
      "\u001b[1m385/385\u001b[0m \u001b[32m━━━━━━━━━━━━━━━━━━━━\u001b[0m\u001b[37m\u001b[0m \u001b[1m2s\u001b[0m 5ms/step - accuracy: 0.7370 - loss: 0.4075 - precision: 0.0729 - recall: 0.8811 - val_accuracy: 0.7169 - val_loss: 0.4529 - val_precision: 0.0627 - val_recall: 0.9206 - learning_rate: 5.0000e-04\n",
      "Epoch 8/100\n",
      "\u001b[1m385/385\u001b[0m \u001b[32m━━━━━━━━━━━━━━━━━━━━\u001b[0m\u001b[37m\u001b[0m \u001b[1m2s\u001b[0m 4ms/step - accuracy: 0.7239 - loss: 0.4024 - precision: 0.0706 - recall: 0.8951 - val_accuracy: 0.7159 - val_loss: 0.4544 - val_precision: 0.0634 - val_recall: 0.9365 - learning_rate: 5.0000e-04\n",
      "Epoch 9/100\n",
      "\u001b[1m385/385\u001b[0m \u001b[32m━━━━━━━━━━━━━━━━━━━━\u001b[0m\u001b[37m\u001b[0m \u001b[1m2s\u001b[0m 4ms/step - accuracy: 0.7441 - loss: 0.3871 - precision: 0.0763 - recall: 0.9021 - val_accuracy: 0.7380 - val_loss: 0.4221 - val_precision: 0.0684 - val_recall: 0.9365 - learning_rate: 5.0000e-04\n",
      "Epoch 10/100\n",
      "\u001b[1m385/385\u001b[0m \u001b[32m━━━━━━━━━━━━━━━━━━━━\u001b[0m\u001b[37m\u001b[0m \u001b[1m2s\u001b[0m 4ms/step - accuracy: 0.7633 - loss: 0.3685 - precision: 0.0810 - recall: 0.8881 - val_accuracy: 0.7958 - val_loss: 0.3551 - val_precision: 0.0838 - val_recall: 0.9048 - learning_rate: 5.0000e-04\n"
     ]
    }
   ],
   "source": [
    "# Try class weights instead of SMOTE\n",
    "from sklearn.utils.class_weight import compute_class_weight\n",
    "\n",
    "class_weights = compute_class_weight('balanced', \n",
    "                                   classes=np.unique(y_train), \n",
    "                                   y=y_train)\n",
    "class_weight_dict = {0: class_weights[0], 1: class_weights[1]}\n",
    "\n",
    "print(f\"Class weights: {class_weight_dict}\")\n",
    "\n",
    "# Retrain original model with class weights (no SMOTE)\n",
    "model_weighted = create_model(X_train.shape[1])\n",
    "history_weighted = model_weighted.fit(\n",
    "    X_train, y_train,\n",
    "    epochs=100,\n",
    "    batch_size=32,\n",
    "    validation_split=0.2,\n",
    "    class_weight=class_weight_dict,  # Add this\n",
    "    callbacks=[early_stopping, reduce_lr],\n",
    "    verbose=1\n",
    ")"
   ]
  },
  {
   "cell_type": "code",
   "execution_count": null,
   "id": "6c3a4fa0",
   "metadata": {},
   "outputs": [
    {
     "name": "stdout",
     "output_type": "stream",
     "text": [
      "\u001b[1m121/121\u001b[0m \u001b[32m━━━━━━━━━━━━━━━━━━━━\u001b[0m\u001b[37m\u001b[0m \u001b[1m1s\u001b[0m 3ms/step\n",
      "Classification Report:\n",
      "              precision    recall  f1-score   support\n",
      "\n",
      "         0.0       0.99      0.57      0.72      3762\n",
      "         1.0       0.04      0.84      0.08        87\n",
      "\n",
      "    accuracy                           0.57      3849\n",
      "   macro avg       0.52      0.70      0.40      3849\n",
      "weighted avg       0.97      0.57      0.71      3849\n",
      "\n"
     ]
    },
    {
     "data": {
      "image/png": "[encoded data removed]",
      "text/plain": [
       "<Figure size 800x600 with 2 Axes>"
      ]
     },
     "metadata": {},
     "output_type": "display_data"
    },
    {
     "ename": "ValueError",
     "evalue": "too many values to unpack (expected 2)",
     "output_type": "error",
     "traceback": [
      "\u001b[31m---------------------------------------------------------------------------\u001b[39m",
      "\u001b[31mValueError\u001b[39m                                Traceback (most recent call last)",
      "\u001b[36mCell\u001b[39m\u001b[36m \u001b[39m\u001b[32mIn[106]\u001b[39m\u001b[32m, line 22\u001b[39m\n\u001b[32m     19\u001b[39m plt.show()\n\u001b[32m     21\u001b[39m \u001b[38;5;66;03m# Overall test accuracy\u001b[39;00m\n\u001b[32m---> \u001b[39m\u001b[32m22\u001b[39m test_loss, test_accuracy = model_weighted.evaluate(X_test, y_test, verbose=\u001b[32m0\u001b[39m)\n\u001b[32m     23\u001b[39m \u001b[38;5;28mprint\u001b[39m(\u001b[33mf\u001b[39m\u001b[33m\"\u001b[39m\u001b[38;5;130;01m\\n\u001b[39;00m\u001b[33mTest Accuracy: \u001b[39m\u001b[38;5;132;01m{\u001b[39;00mtest_accuracy\u001b[38;5;132;01m:\u001b[39;00m\u001b[33m.4f\u001b[39m\u001b[38;5;132;01m}\u001b[39;00m\u001b[33m\"\u001b[39m)\n\u001b[32m     24\u001b[39m \u001b[38;5;28mprint\u001b[39m(\u001b[33mf\u001b[39m\u001b[33m\"\u001b[39m\u001b[33mTest Loss: \u001b[39m\u001b[38;5;132;01m{\u001b[39;00mtest_loss\u001b[38;5;132;01m:\u001b[39;00m\u001b[33m.4f\u001b[39m\u001b[38;5;132;01m}\u001b[39;00m\u001b[33m\"\u001b[39m)\n",
      "\u001b[31mValueError\u001b[39m: too many values to unpack (expected 2)"
     ]
    }
   ],
   "source": [
    "from sklearn.metrics import classification_report, confusion_matrix\n",
    "import seaborn as sns\n",
    "\n",
    "# Make predictions\n",
    "y_pred = model_weighted.predict(X_test)\n",
    "y_pred_classes = (y_pred > 0.5).astype(int).flatten()\n",
    "\n",
    "# Classification report\n",
    "print(\"Classification Report:\")\n",
    "print(classification_report(y_test, y_pred_classes))\n",
    "\n",
    "# Confusion matrix\n",
    "cm = confusion_matrix(y_test, y_pred_classes)\n",
    "plt.figure(figsize=(8, 6))\n",
    "sns.heatmap(cm, annot=True, fmt='d', cmap='Blues')\n",
    "plt.title('Confusion Matrix')\n",
    "plt.ylabel('Actual')\n",
    "plt.xlabel('Predicted')\n",
    "plt.show()\n",
    "\n"
   ]
  },
  {
   "cell_type": "code",
   "execution_count": 107,
   "id": "e698f449",
   "metadata": {},
   "outputs": [
    {
     "data": {
      "image/png": "[encoded data removed]",
      "text/plain": [
       "<Figure size 800x600 with 1 Axes>"
      ]
     },
     "metadata": {},
     "output_type": "display_data"
    },
    {
     "name": "stdout",
     "output_type": "stream",
     "text": [
      "Average Precision Score: 0.0677\n"
     ]
    }
   ],
   "source": [
    "from sklearn.metrics import precision_recall_curve, average_precision_score\n",
    "\n",
    "# Precision-Recall curve is much better for imbalanced data\n",
    "precision, recall, thresholds = precision_recall_curve(y_test, y_pred)\n",
    "ap_score = average_precision_score(y_test, y_pred)\n",
    "\n",
    "plt.figure(figsize=(8, 6))\n",
    "plt.plot(recall, precision, label=f'AP Score = {ap_score:.3f}')\n",
    "plt.xlabel('Recall')\n",
    "plt.ylabel('Precision')\n",
    "plt.title('Precision-Recall Curve')\n",
    "plt.legend()\n",
    "plt.show()\n",
    "\n",
    "print(f\"Average Precision Score: {ap_score:.4f}\")"
   ]
  },
  {
   "cell_type": "code",
   "execution_count": null,
   "id": "8ff38082",
   "metadata": {},
   "outputs": [],
   "source": []
  },
  {
   "cell_type": "markdown",
   "id": "cbd1e54f",
   "metadata": {},
   "source": [
    "Better recall is more important than accuracy\n",
    "No smote method seems to have better recall for 1??"
   ]
  }
 ],
 "metadata": {
  "kernelspec": {
   "display_name": ".venv",
   "language": "python",
   "name": "python3"
  },
  "language_info": {
   "codemirror_mode": {
    "name": "ipython",
    "version": 3
   },
   "file_extension": ".py",
   "mimetype": "text/x-python",
   "name": "python",
   "nbconvert_exporter": "python",
   "pygments_lexer": "ipython3",
   "version": "3.11.0"
  }
 },
 "nbformat": 4,
 "nbformat_minor": 5
}
