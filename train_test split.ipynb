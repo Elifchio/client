{
 "cells": [
  {
   "cell_type": "code",
   "execution_count": null,
   "id": "e5737250",
   "metadata": {},
   "outputs": [],
   "source": [
    "import pandas as pd\n",
    "\n",
    "path = r\"C:\\Users\\ElifYilmaz\\OneDrive - Enpal B.V\\Desktop\\New folder\\Project\\reroute, more samples\\merged_df_bigger_sample.csv\"\n",
    "df = pd.read_csv(path)\n",
    "df.columns = df.columns.str.lower()\n",
    "\n",
    "\n",
    "# optionally turn it into net sc only \n",
    "df = df [ df ['net_sc'] != 0].copy()\n",
    "\n",
    "#separating into old positives, new positives and all negatives nb: would be better to mark also the older/ newer negatives maybe later\n",
    "new_positives = df[ (df['old'] == 0) & (df['grosscontractsigned']== 1)].reset_index(drop=True)\n",
    "old_positives =  df[df['old']==1].reset_index(drop=True)\n",
    "rest_negatives = df[ df[ 'grosscontractsigned'] == 0].reset_index(drop=True)\n",
    "\n",
    "negative_train = rest_negatives.sample(frac=0.7, random_state=42)\n",
    "negative_test = rest_negatives.drop(negative_train.index)\n",
    "\n",
    "# these is 4184. to keep the original ratio i have to add 210 new positives\n",
    "test_new_positives = new_positives.sample(n=244, random_state = 42)\n",
    "train_new_positives = new_positives.drop(test_new_positives.index)\n",
    "\n",
    "# create final train and test\n",
    "train = pd.concat( [negative_train, train_new_positives, old_positives])\n",
    "test = pd.concat ( [test_new_positives, negative_test])\n",
    "\n",
    "# boo dont forget to drop old mark\n",
    "train = train.drop('old', axis=1)\n",
    "test = test.drop('old', axis=1)\n",
    "\n",
    "# for some reason selfipadone is missing on a few columns, later look but for now fill with 0 \n",
    "train['selfipa_done'] = train['selfipa_done'].fillna(0)\n",
    "test['selfipa_done'] = test['selfipa_done'].fillna(0)\n",
    "\n",
    "#split \n",
    "X_train = train.drop('grosscontractsigned', axis=1)\n",
    "y_train = train['grosscontractsigned']\n",
    "X_test = test.drop('grosscontractsigned', axis=1)\n",
    "y_test = test['grosscontractsigned']\n"
   ]
  }
 ],
 "metadata": {
  "language_info": {
   "name": "python"
  }
 },
 "nbformat": 4,
 "nbformat_minor": 5
}
