{
 "cells": [
  {
   "cell_type": "code",
   "execution_count": 1,
   "id": "bfdeb5ac",
   "metadata": {},
   "outputs": [
    {
     "name": "stdout",
     "output_type": "stream",
     "text": [
      "<class 'pandas.core.frame.DataFrame'>\n",
      "RangeIndex: 38367 entries, 0 to 38366\n",
      "Data columns (total 23 columns):\n",
      " #   Column                            Non-Null Count  Dtype  \n",
      "---  ------                            --------------  -----  \n",
      " 0   ID                                38367 non-null  int64  \n",
      " 1   converted                         38367 non-null  int64  \n",
      " 2   total_bc_attempts                 38367 non-null  int64  \n",
      " 3   total_bc_outcomes                 38367 non-null  int64  \n",
      " 4   lead_to_first_bc_days             38367 non-null  float64\n",
      " 5   bc_duration_days                  38367 non-null  float64\n",
      " 6   lead_to_sc1_days                  38367 non-null  float64\n",
      " 7   sc1_schedule_to_appointment_days  38367 non-null  float64\n",
      " 8   bc_frequency                      38367 non-null  float64\n",
      " 9   positive_outcomes_count           38367 non-null  int64  \n",
      " 10  negative_outcomes_count           38367 non-null  int64  \n",
      " 11  noshow_outcomes_count             38367 non-null  int64  \n",
      " 12  positive_outcome_ratio            38367 non-null  float64\n",
      " 13  negative_outcome_ratio            38367 non-null  float64\n",
      " 14  noshow_outcome_ratio              38367 non-null  float64\n",
      " 15  reachability_score                38367 non-null  float64\n",
      " 16  outcome_trend                     38367 non-null  int64  \n",
      " 17  persistence_after_negative        38367 non-null  int64  \n",
      " 18  showed_up_sc1                     38367 non-null  int64  \n",
      " 19  engagement_score                  38367 non-null  float64\n",
      " 20  efficiency_score                  38367 non-null  float64\n",
      " 21  last_bc_outcome_encoded           38367 non-null  int64  \n",
      " 22  first_bc_outcome_encoded          38367 non-null  int64  \n",
      "dtypes: float64(11), int64(12)\n",
      "memory usage: 6.7 MB\n"
     ]
    }
   ],
   "source": [
    "import pandas as pd\n",
    "import csv\n",
    "behaviour = pd.read_csv(r\"processed_data/df_model.csv\") \n",
    "behaviour.info()"
   ]
  }
 ],
 "metadata": {
  "kernelspec": {
   "display_name": ".venv",
   "language": "python",
   "name": "python3"
  },
  "language_info": {
   "codemirror_mode": {
    "name": "ipython",
    "version": 3
   },
   "file_extension": ".py",
   "mimetype": "text/x-python",
   "name": "python",
   "nbconvert_exporter": "python",
   "pygments_lexer": "ipython3",
   "version": "3.11.0"
  }
 },
 "nbformat": 4,
 "nbformat_minor": 5
}
