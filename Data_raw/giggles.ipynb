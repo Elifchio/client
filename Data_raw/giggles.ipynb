{
 "cells": [
  {
   "cell_type": "code",
   "execution_count": 2,
   "id": "cbb0f516",
   "metadata": {},
   "outputs": [],
   "source": [
    "import pandas as pd"
   ]
  },
  {
   "cell_type": "code",
   "execution_count": 4,
   "id": "4f93929c",
   "metadata": {},
   "outputs": [],
   "source": [
    "df = pd.read_csv(\"info_client.csv\")"
   ]
  },
  {
   "cell_type": "code",
   "execution_count": 5,
   "id": "b5499009",
   "metadata": {},
   "outputs": [
    {
     "name": "stdout",
     "output_type": "stream",
     "text": [
      "<class 'pandas.core.frame.DataFrame'>\n",
      "RangeIndex: 126364 entries, 0 to 126363\n",
      "Data columns (total 9 columns):\n",
      " #   Column                  Non-Null Count   Dtype  \n",
      "---  ------                  --------------   -----  \n",
      " 0   REQUESTID               126364 non-null  int64  \n",
      " 1   ZIPREGION               123309 non-null  object \n",
      " 2   EVALUATIONTIME          119666 non-null  object \n",
      " 3   DESIREDINSTALLATIONEND  119746 non-null  object \n",
      " 4   ELECTRICITYBILL         105783 non-null  float64\n",
      " 5   HEATINGBILL             92431 non-null   float64\n",
      " 6   MKTGPARAMSCORE          24088 non-null   object \n",
      " 7   GROSSCONTRACTSIGNED     2781 non-null    float64\n",
      " 8   SELFIPAIMPORTEDAT       2619 non-null    object \n",
      "dtypes: float64(3), int64(1), object(5)\n",
      "memory usage: 8.7+ MB\n"
     ]
    }
   ],
   "source": [
    "df.info()"
   ]
  },
  {
   "cell_type": "code",
   "execution_count": 9,
   "id": "e1ef5357",
   "metadata": {},
   "outputs": [
    {
     "data": {
      "text/plain": [
       "ZIPREGION\n",
       "Lombardia                21435\n",
       "Lazio                    11981\n",
       "Piemonte                 11636\n",
       "Emilia-Romagna           11124\n",
       "Veneto                   10962\n",
       "Toscana                   8902\n",
       "Sicilia                   7090\n",
       "Puglia                    7016\n",
       "Friuli-Venezia Giulia     5435\n",
       "Campania                  4938\n",
       "Calabria                  4369\n",
       "Liguria                   3597\n",
       "Marche                    3175\n",
       "Abruzzo                   2970\n",
       "Sardegna                  2915\n",
       "Umbria                    2117\n",
       "Trentino-Alto Adige       1461\n",
       "Basilicata                 933\n",
       "Molise                     836\n",
       "Valle D'Aosta              417\n",
       "Name: count, dtype: int64"
      ]
     },
     "execution_count": 9,
     "metadata": {},
     "output_type": "execute_result"
    }
   ],
   "source": [
    "df[\"ZIPREGION\"].value_counts()"
   ]
  },
  {
   "cell_type": "code",
   "execution_count": 17,
   "id": "7f021769",
   "metadata": {},
   "outputs": [
    {
     "name": "stdout",
     "output_type": "stream",
     "text": [
      "{'Piemonte': 11636, nan: 3055, 'Lazio': 11981, 'Toscana': 8902, 'Lombardia': 21435, 'Emilia-Romagna': 11124, 'Calabria': 4369, 'Liguria': 3597, 'Abruzzo': 2970, 'Friuli-Venezia Giulia': 5435, 'Veneto': 10962, 'Sicilia': 7090, 'Puglia': 7016, 'Basilicata': 933, 'Campania': 4938, 'Umbria': 2117, 'Marche': 3175, 'Molise': 836, 'Sardegna': 2915, 'Trentino-Alto Adige': 1461, \"Valle D'Aosta\": 417}\n"
     ]
    }
   ],
   "source": [
    "counts = {}\n",
    "for value in  df[\"ZIPREGION\"]:\n",
    "    if value in counts:\n",
    "        counts[value] += 1\n",
    "    else:\n",
    "        counts[value] = 1\n",
    "print(counts)"
   ]
  },
  {
   "cell_type": "code",
   "execution_count": null,
   "id": "17cde129",
   "metadata": {},
   "outputs": [
    {
     "data": {
      "text/plain": [
       "array([nan, '2024-10-24 08:27:12.000', '2024-12-30 14:34:26.000', ...,\n",
       "       '2025-07-30 16:42:11.000', '2025-02-28 09:35:26.000',\n",
       "       '2025-08-01 08:13:55.000'], dtype=object)"
      ]
     },
     "execution_count": 7,
     "metadata": {},
     "output_type": "execute_result"
    }
   ],
   "source": [
    "def counts(df, column):\n",
    "    for i in df[column]:\n",
    "        if \n",
    "    \n",
    "\n",
    "\n"
   ]
  }
 ],
 "metadata": {
  "kernelspec": {
   "display_name": ".venv",
   "language": "python",
   "name": "python3"
  },
  "language_info": {
   "codemirror_mode": {
    "name": "ipython",
    "version": 3
   },
   "file_extension": ".py",
   "mimetype": "text/x-python",
   "name": "python",
   "nbconvert_exporter": "python",
   "pygments_lexer": "ipython3",
   "version": "3.11.0"
  }
 },
 "nbformat": 4,
 "nbformat_minor": 5
}
