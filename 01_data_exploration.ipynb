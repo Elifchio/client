{
 "cells": [
  {
   "cell_type": "markdown",
   "id": "15616ed6",
   "metadata": {},
   "source": [
    "#### Gathering data from database\n",
    "\n",
    "requests; \n",
    "\n",
    "select createdat, deletedat, requestid, tsstart, type from calendar_event\n",
    " where createdat > '2025-03-01'\n",
    "and type <> 'VACATION'\n",
    "\n",
    "Qualitative info + target column\n",
    "\n",
    "select r.id as requestid, \n",
    "zipregion, r.evaluationtime, r.desiredinstallationend, electricitybill, heatingbill l.mktgparamscore, a.netcontractsigned,  selfipaimportedat  -- for the two column that are present both in request and lead; request is more filled\n",
    "from  request r left join lead l on l.id = r.leadid left join airtable_contracts a on a.requestid = r.id\n",
    "-----NO TIME CONSTRAINT ON THIS -----"
   ]
  },
  {
   "cell_type": "code",
   "execution_count": null,
   "id": "db938703",
   "metadata": {},
   "outputs": [],
   "source": [
    "\n",
    "import pandas as pd\n",
    "import numpy as np\n"
   ]
  },
  {
   "cell_type": "code",
   "execution_count": null,
   "id": "5465b15a",
   "metadata": {},
   "outputs": [],
   "source": [
    "# requests\n",
    "file_path = r\"C:\\Users\\ElifYilmaz\\Downloads\\project 2.0.csv\"\n",
    "\n",
    "df = pd.read_csv(file_path)\n",
    "df.columns = df.columns.str.lower()\n"
   ]
  },
  {
   "cell_type": "code",
   "execution_count": null,
   "id": "43bcfffb",
   "metadata": {},
   "outputs": [],
   "source": [
    "# qualitative \n",
    "\n",
    "file2 = r\"C:\\Users\\ElifYilmaz\\Downloads\\info client.csv\"\n",
    "\n",
    "df2 = pd.read_csv(file2)\n",
    "df2.columns = df2.columns.str.lower()\n",
    "\n"
   ]
  },
  {
   "cell_type": "code",
   "execution_count": null,
   "id": "3035b89b",
   "metadata": {},
   "outputs": [],
   "source": [
    "# merge for analysis\n",
    "\n",
    "final_df = df.merge(df2, on='requestid', how='left')"
   ]
  },
  {
   "cell_type": "markdown",
   "id": "c6a5e93e",
   "metadata": {},
   "source": [
    "Explatory checks"
   ]
  },
  {
   "cell_type": "code",
   "execution_count": null,
   "id": "48e09067",
   "metadata": {},
   "outputs": [],
   "source": [
    "# basic check, correlation can only be checked after encoding since most values are categorical and the rest are entries of happenings\n",
    "\n",
    "# data types\n",
    "print(\"Data types:\")\n",
    "print(final_df.dtypes)\n",
    "print(f\"\\nAny missing values: {final_df.isnull().sum().sum()}\")\n",
    "\n",
    "# shape\n",
    "print(f\"Shape of dataset: {final_df.shape}\")\n"
   ]
  },
  {
   "cell_type": "code",
   "execution_count": null,
   "id": "ee3f7784",
   "metadata": {},
   "outputs": [],
   "source": [
    "# Check missing values by column\n",
    "print(\"Missing values per column:\")\n",
    "missing_counts = final_df.isnull().sum()\n",
    "print(missing_counts[missing_counts > 0])\n",
    "\n",
    "# Check the object columns that need encoding\n",
    "object_cols = final_df.select_dtypes(include=['object']).columns\n",
    "print(f\"\\nObject columns needing encoding: {list(object_cols)}\")"
   ]
  },
  {
   "cell_type": "code",
   "execution_count": null,
   "id": "37cec312",
   "metadata": {},
   "outputs": [],
   "source": [
    "# categorical values\n",
    "# Check unique values in categorical columns\n",
    "for col in ['zipregion', 'evaluationtime', 'desiredinstallationend', 'mktgparamscore']:\n",
    "    unique_count = final_df[col].nunique()\n",
    "    print(f\"{col}: {unique_count} unique values\")\n",
    "    if unique_count < 20:  # Show values if not too many\n",
    "        print(f\"  Values: {sorted(final_df[col].dropna().unique())}\")\n",
    "    print()"
   ]
  },
  {
   "cell_type": "code",
   "execution_count": null,
   "id": "25ef57fe",
   "metadata": {},
   "outputs": [],
   "source": [
    "# Check if missingness patterns relate to conversion\n",
    "print(\"Conversion rates by missingness:\")\n",
    "for col in ['zipregion', 'evaluationtime', 'desiredinstallationend', 'electricitybill', 'mktgparamscore']:\n",
    "    missing_conversion = final_df[final_df[col].isnull()]['netcontractsigned'].mean()\n",
    "    present_conversion = final_df[final_df[col].notnull()]['netcontractsigned'].mean()\n",
    "    \n",
    "    print(f\"{col}:\")\n",
    "    print(f\"  Missing: {missing_conversion:.3f} ({final_df[col].isnull().sum()} cases)\")\n",
    "    print(f\"  Present: {present_conversion:.3f} ({final_df[col].notnull().sum()} cases)\")\n",
    "    print()"
   ]
  }
 ],
 "metadata": {
  "kernelspec": {
   "display_name": ".venv",
   "language": "python",
   "name": "python3"
  },
  "language_info": {
   "codemirror_mode": {
    "name": "ipython",
    "version": 3
   },
   "file_extension": ".py",
   "mimetype": "text/x-python",
   "name": "python",
   "nbconvert_exporter": "python",
   "pygments_lexer": "ipython3",
   "version": "3.11.0"
  }
 },
 "nbformat": 4,
 "nbformat_minor": 5
}
