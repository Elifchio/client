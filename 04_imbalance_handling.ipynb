{
 "cells": [
  {
   "cell_type": "code",
   "execution_count": 4,
   "id": "e3dbf54b",
   "metadata": {},
   "outputs": [],
   "source": [
    "import pandas as pd\n",
    "import numpy as np\n",
    "\n",
    "from sklearn.model_selection import train_test_split\n",
    "from sklearn.linear_model import LogisticRegression\n",
    "from sklearn.metrics import roc_auc_score\n",
    "from sklearn.preprocessing import StandardScaler\n",
    "from sklearn.metrics import precision_recall_curve, auc, classification_report\n",
    "\n"
   ]
  },
  {
   "cell_type": "code",
   "execution_count": 2,
   "id": "8dff50b3",
   "metadata": {},
   "outputs": [],
   "source": [
    "df = pd.read_csv('processed_data/merged_df.csv')"
   ]
  },
  {
   "cell_type": "code",
   "execution_count": 8,
   "id": "923bac85",
   "metadata": {},
   "outputs": [],
   "source": [
    "# split\n",
    "\n",
    "target_column = 'netcontractsigned'\n",
    "X = df.drop(target_column, axis=1)\n",
    "y = df[target_column]\n",
    "\n",
    "# Split the data\n",
    "X_train, X_test, y_train, y_test = train_test_split(\n",
    "    X, y, test_size=0.2, random_state=42, stratify=y\n",
    ")\n",
    "\n",
    "scaler = StandardScaler()\n",
    "X_train_scaled = scaler.fit_transform(X_train)\n",
    "X_test_scaled = scaler.transform(X_test)\n",
    "\n"
   ]
  },
  {
   "cell_type": "markdown",
   "id": "8f758cb4",
   "metadata": {},
   "source": [
    "#### First Strategy\n",
    "\n",
    "Class Weights"
   ]
  },
  {
   "cell_type": "code",
   "execution_count": 11,
   "id": "79b7e989",
   "metadata": {},
   "outputs": [
    {
     "ename": "NameError",
     "evalue": "name 'recall' is not defined",
     "output_type": "error",
     "traceback": [
      "\u001b[31m---------------------------------------------------------------------------\u001b[39m",
      "\u001b[31mNameError\u001b[39m                                 Traceback (most recent call last)",
      "\u001b[36mCell\u001b[39m\u001b[36m \u001b[39m\u001b[32mIn[11]\u001b[39m\u001b[32m, line 3\u001b[39m\n\u001b[32m      1\u001b[39m \u001b[38;5;66;03m# Calculate AUC-PR (more reliable for imbalanced data)\u001b[39;00m\n\u001b[32m      2\u001b[39m \u001b[38;5;66;03m#precision, recall, _ = precision_recall_curve(y_test, y_pred_proba)\u001b[39;00m\n\u001b[32m----> \u001b[39m\u001b[32m3\u001b[39m auc_pr = auc(\u001b[43mrecall\u001b[49m, precision)\n\u001b[32m      5\u001b[39m \u001b[38;5;66;03m# Test class weights with your strong signal\u001b[39;00m\n\u001b[32m      6\u001b[39m \u001b[38;5;28mprint\u001b[39m(\u001b[33m\"\u001b[39m\u001b[38;5;130;01m\\n\u001b[39;00m\u001b[33m=== TESTING CLASS WEIGHTS ===\u001b[39m\u001b[33m\"\u001b[39m)\n",
      "\u001b[31mNameError\u001b[39m: name 'recall' is not defined"
     ]
    }
   ],
   "source": [
    "\n",
    "# Calculate AUC-PR (more reliable for imbalanced data)\n",
    "#precision, recall, _ = precision_recall_curve(y_test, y_pred_proba)\n",
    "auc_pr = auc(recall, precision)\n",
    "\n",
    "# Test class weights with your strong signal\n",
    "print(\"\\n=== TESTING CLASS WEIGHTS ===\")\n",
    "\n",
    "# Calculate balanced class weight\n",
    "pos_weight = (1 - y_train.mean()) / y_train.mean()  # About 42 for your data\n",
    "print(f\"Calculated positive class weight: {pos_weight:.1f}\")\n",
    "\n",
    "# Train with class weights\n",
    "lr_weighted = LogisticRegression(\n",
    "    class_weight={0: 1, 1: pos_weight},\n",
    "    random_state=42, \n",
    "    max_iter=1000\n",
    ")\n",
    "lr_weighted.fit(X_train_scaled, y_train)\n",
    "\n",
    "# Get predictions\n",
    "y_pred_weighted = lr_weighted.predict_proba(X_test_scaled)[:, 1]\n",
    "\n",
    "# Evaluate\n",
    "precision_w, recall_w, _ = precision_recall_curve(y_test, y_pred_weighted)\n",
    "auc_pr_weighted = auc(recall_w, precision_w)\n",
    "auc_roc_weighted = roc_auc_score(y_test, y_pred_weighted)\n",
    "\n",
    "print(f\"\\nClass Weights Results:\")\n",
    "print(f\"AUC-ROC: {auc_roc_weighted:.3f}\")\n",
    "print(f\"AUC-PR: {auc_pr_weighted:.3f}\")\n",
    "print(f\"Improvement over baseline: {auc_pr_weighted/auc_pr:.2f}x\")\n",
    "\n",
    "# Check different thresholds\n",
    "for thresh in [0.1, 0.2, 0.3]:\n",
    "    pred_at_thresh = (y_pred_weighted >= thresh).astype(int)\n",
    "    if pred_at_thresh.sum() > 0:\n",
    "        precision_at_thresh = (y_test[pred_at_thresh == 1]).mean()\n",
    "        print(f\"At {thresh} threshold: {pred_at_thresh.sum()} predicted positive, {precision_at_thresh:.3f} precision\")"
   ]
  }
 ],
 "metadata": {
  "kernelspec": {
   "display_name": ".venv",
   "language": "python",
   "name": "python3"
  },
  "language_info": {
   "codemirror_mode": {
    "name": "ipython",
    "version": 3
   },
   "file_extension": ".py",
   "mimetype": "text/x-python",
   "name": "python",
   "nbconvert_exporter": "python",
   "pygments_lexer": "ipython3",
   "version": "3.11.0"
  }
 },
 "nbformat": 4,
 "nbformat_minor": 5
}
