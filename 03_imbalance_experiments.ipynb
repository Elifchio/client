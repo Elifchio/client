{
 "cells": [
  {
   "cell_type": "code",
   "execution_count": 1,
   "id": "c9c8a05b",
   "metadata": {},
   "outputs": [],
   "source": [
    "import pandas as pd"
   ]
  },
  {
   "cell_type": "code",
   "execution_count": 2,
   "id": "e0bbc562",
   "metadata": {},
   "outputs": [
    {
     "name": "stdout",
     "output_type": "stream",
     "text": [
      "Dataset loaded: (19245, 71)\n",
      "Columns: ['gross_FU', 'gross_SC', 'net_FU', 'net_SC', 'time_first_sc_to_first_net_fu', 'electricitybill', 'heatingbill', 'selfipa_done', 'zipregion_missing', 'evaluationtime_missing', 'desiredinstallationend_missing', 'electricitybill_missing', 'heatingbill_missing', 'mktgparamscore_missing', 'desiredinstallationend_encoded', 'mktg_Affiliation', 'mktg_Google', 'mktg_Mediago', 'mktg_Meta', 'mktg_Organic', 'mktg_Other', 'mktg_Outbrain', 'mktg_Referral', 'mktg_Taboola', 'mktg_TikTok', 'mktg_Youtube', 'mktg_d2d', 'mktg_form_classico', 'region_Abruzzo', 'region_Basilicata', 'region_Calabria', 'region_Campania', 'region_Emilia-Romagna', 'region_Friuli-Venezia Giulia', 'region_Lazio', 'region_Liguria', 'region_Lombardia', 'region_Marche', 'region_Molise', 'region_Piemonte', 'region_Puglia', 'region_Sardegna', 'region_Sicilia', 'region_Toscana', 'region_Trentino-Alto Adige', 'region_Umbria', \"region_Valle D'Aosta\", 'region_Veneto', 'evaluationtime_encoded', 'converted', 'total_bc_attempts', 'total_bc_outcomes', 'lead_to_first_bc_days', 'bc_duration_days', 'lead_to_sc1_days', 'sc1_schedule_to_appointment_days', 'bc_frequency', 'positive_outcomes_count', 'negative_outcomes_count', 'noshow_outcomes_count', 'positive_outcome_ratio', 'negative_outcome_ratio', 'noshow_outcome_ratio', 'reachability_score', 'outcome_trend', 'persistence_after_negative', 'showed_up_sc1', 'engagement_score', 'efficiency_score', 'last_bc_outcome_encoded', 'first_bc_outcome_encoded']\n"
     ]
    }
   ],
   "source": [
    "# Load the saved dataset\n",
    "merged_df = pd.read_csv('processed_data/merged_df.csv')\n",
    "\n",
    "print(f\"Dataset loaded: {merged_df.shape}\")\n",
    "print(f\"Columns: {list(merged_df.columns)}\")"
   ]
  }
 ],
 "metadata": {
  "kernelspec": {
   "display_name": ".venv",
   "language": "python",
   "name": "python3"
  },
  "language_info": {
   "codemirror_mode": {
    "name": "ipython",
    "version": 3
   },
   "file_extension": ".py",
   "mimetype": "text/x-python",
   "name": "python",
   "nbconvert_exporter": "python",
   "pygments_lexer": "ipython3",
   "version": "3.11.0"
  }
 },
 "nbformat": 4,
 "nbformat_minor": 5
}
