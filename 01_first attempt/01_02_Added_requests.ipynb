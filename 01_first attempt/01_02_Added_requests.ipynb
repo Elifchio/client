{
 "cells": [
  {
   "cell_type": "code",
   "execution_count": 1,
   "id": "dac6a9b5",
   "metadata": {},
   "outputs": [],
   "source": [
    "\n",
    "import pandas as pd\n",
    "import numpy as np"
   ]
  },
  {
   "cell_type": "markdown",
   "id": "7bd0ce70",
   "metadata": {},
   "source": [
    "Taking requests that we havent taken in yet\n",
    "\n",
    "with requests as (\n",
    "select distinct requestid as requestid from airtable_contracts\n",
    "where grosscontractsigned = 1\n",
    "or grosscontractsignedfreelancer = 1\n",
    "),\n",
    "ce as ( select distinct requestid as id from calendar_event where createdat > '2025-03-01'\n",
    " and createdat < '2025-07-15'\n",
    "and type <> 'VACATION'\n",
    ")\n",
    "select r.requestid from requests r left outer join ce on ce.id = r.requestid\n",
    "WHERE ce.id IS NULL\n",
    "\n",
    "view --> new_requests\n",
    "\n",
    "adding leadid\n",
    "\n",
    "select n.requestid, r.leadid from new_requests n join request r on r.id = n.requestid )\n",
    "\n",
    "view --> info1\n",
    "\n",
    "\n",
    "-- download of 9/4"
   ]
  },
  {
   "cell_type": "code",
   "execution_count": 3,
   "id": "a76626ff",
   "metadata": {},
   "outputs": [],
   "source": [
    "path = r\"C:\\Users\\ElifYilmaz\\Downloads\\recover contracts.csv\"\n",
    "df = pd.read_csv(path)\n",
    "df.columns = df.columns.str.lower()\n",
    "\n"
   ]
  },
  {
   "cell_type": "code",
   "execution_count": null,
   "id": "55086b22",
   "metadata": {},
   "outputs": [],
   "source": []
  }
 ],
 "metadata": {
  "kernelspec": {
   "display_name": ".venv",
   "language": "python",
   "name": "python3"
  },
  "language_info": {
   "codemirror_mode": {
    "name": "ipython",
    "version": 3
   },
   "file_extension": ".py",
   "mimetype": "text/x-python",
   "name": "python",
   "nbconvert_exporter": "python",
   "pygments_lexer": "ipython3",
   "version": "3.11.0"
  }
 },
 "nbformat": 4,
 "nbformat_minor": 5
}
