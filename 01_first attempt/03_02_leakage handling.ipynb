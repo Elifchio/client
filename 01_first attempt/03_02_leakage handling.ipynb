{
 "cells": [
  {
   "cell_type": "code",
   "execution_count": null,
   "id": "da8def48",
   "metadata": {},
   "outputs": [],
   "source": [
    "import pandas as pd"
   ]
  },
  {
   "cell_type": "markdown",
   "id": "696a1b6f",
   "metadata": {},
   "source": [
    "lets try taking data that ois only with net sc1\n",
    "from 19k we drop to 12k"
   ]
  },
  {
   "cell_type": "code",
   "execution_count": 9,
   "id": "ac0b2f88",
   "metadata": {},
   "outputs": [
    {
     "name": "stdout",
     "output_type": "stream",
     "text": [
      "<class 'pandas.core.frame.DataFrame'>\n",
      "RangeIndex: 19536 entries, 0 to 19535\n",
      "Data columns (total 41 columns):\n",
      " #   Column                          Non-Null Count  Dtype  \n",
      "---  ------                          --------------  -----  \n",
      " 0   gross_fu                        19536 non-null  int64  \n",
      " 1   gross_sc                        19536 non-null  int64  \n",
      " 2   net_fu                          19536 non-null  float64\n",
      " 3   net_sc                          19536 non-null  float64\n",
      " 4   time_first_sc_to_first_net_fu   19536 non-null  float64\n",
      " 5   electricitybill                 19536 non-null  float64\n",
      " 6   heatingbill                     19536 non-null  float64\n",
      " 7   grosscontractsigned             19536 non-null  float64\n",
      " 8   selfipa_done                    19536 non-null  int64  \n",
      " 9   zipregion_missing               19536 non-null  int64  \n",
      " 10  evaluationtime_missing          19536 non-null  int64  \n",
      " 11  desiredinstallationend_missing  19536 non-null  int64  \n",
      " 12  electricitybill_missing         19536 non-null  int64  \n",
      " 13  heatingbill_missing             19536 non-null  int64  \n",
      " 14  aggregated_missing              19536 non-null  int64  \n",
      " 15  desiredinstallationend_encoded  19536 non-null  int64  \n",
      " 16  mktg_high                       19536 non-null  bool   \n",
      " 17  mktg_low                        19536 non-null  bool   \n",
      " 18  mktg_medium                     19536 non-null  bool   \n",
      " 19  region_high_performer           19536 non-null  bool   \n",
      " 20  region_large_solid              19536 non-null  bool   \n",
      " 21  region_lower                    19536 non-null  bool   \n",
      " 22  region_medium                   19536 non-null  bool   \n",
      " 23  total_bc_attempts               19536 non-null  int64  \n",
      " 24  total_bc_outcomes               19536 non-null  int64  \n",
      " 25  lead_to_first_bc_days           19536 non-null  float64\n",
      " 26  bc_duration_days                19536 non-null  float64\n",
      " 27  bc_frequency                    19536 non-null  float64\n",
      " 28  positive_outcomes_count         19536 non-null  int64  \n",
      " 29  negative_outcomes_count         19536 non-null  int64  \n",
      " 30  noshow_outcomes_count           19536 non-null  int64  \n",
      " 31  positive_outcome_ratio          19536 non-null  float64\n",
      " 32  negative_outcome_ratio          19536 non-null  float64\n",
      " 33  noshow_outcome_ratio            19536 non-null  float64\n",
      " 34  reachability_score              19536 non-null  float64\n",
      " 35  outcome_trend                   19536 non-null  int64  \n",
      " 36  persistence_after_negative      19536 non-null  int64  \n",
      " 37  engagement_score                19536 non-null  float64\n",
      " 38  efficiency_score                19536 non-null  float64\n",
      " 39  last_bc_outcome_encoded         19536 non-null  int64  \n",
      " 40  first_bc_outcome_encoded        19536 non-null  int64  \n",
      "dtypes: bool(7), float64(15), int64(19)\n",
      "memory usage: 5.2 MB\n"
     ]
    },
    {
     "data": {
      "text/plain": [
       "grosscontractsigned\n",
       "0.0    17365\n",
       "1.0     2171\n",
       "Name: count, dtype: int64"
      ]
     },
     "execution_count": 9,
     "metadata": {},
     "output_type": "execute_result"
    }
   ],
   "source": [
    "df = pd.read_csv('processed_data/merged_df.csv')\n",
    "df.columns=df.columns.str.lower()\n",
    "df.info()\n",
    "df[\"grosscontractsigned\"].value_counts()"
   ]
  },
  {
   "cell_type": "code",
   "execution_count": 10,
   "id": "440d2552",
   "metadata": {},
   "outputs": [],
   "source": [
    "df = (df[df['net_sc'] != 0]).copy()"
   ]
  },
  {
   "cell_type": "code",
   "execution_count": 11,
   "id": "6a744b68",
   "metadata": {},
   "outputs": [
    {
     "name": "stdout",
     "output_type": "stream",
     "text": [
      "<class 'pandas.core.frame.DataFrame'>\n",
      "Index: 12280 entries, 0 to 19535\n",
      "Data columns (total 41 columns):\n",
      " #   Column                          Non-Null Count  Dtype  \n",
      "---  ------                          --------------  -----  \n",
      " 0   gross_fu                        12280 non-null  int64  \n",
      " 1   gross_sc                        12280 non-null  int64  \n",
      " 2   net_fu                          12280 non-null  float64\n",
      " 3   net_sc                          12280 non-null  float64\n",
      " 4   time_first_sc_to_first_net_fu   12280 non-null  float64\n",
      " 5   electricitybill                 12280 non-null  float64\n",
      " 6   heatingbill                     12280 non-null  float64\n",
      " 7   grosscontractsigned             12280 non-null  float64\n",
      " 8   selfipa_done                    12280 non-null  int64  \n",
      " 9   zipregion_missing               12280 non-null  int64  \n",
      " 10  evaluationtime_missing          12280 non-null  int64  \n",
      " 11  desiredinstallationend_missing  12280 non-null  int64  \n",
      " 12  electricitybill_missing         12280 non-null  int64  \n",
      " 13  heatingbill_missing             12280 non-null  int64  \n",
      " 14  aggregated_missing              12280 non-null  int64  \n",
      " 15  desiredinstallationend_encoded  12280 non-null  int64  \n",
      " 16  mktg_high                       12280 non-null  bool   \n",
      " 17  mktg_low                        12280 non-null  bool   \n",
      " 18  mktg_medium                     12280 non-null  bool   \n",
      " 19  region_high_performer           12280 non-null  bool   \n",
      " 20  region_large_solid              12280 non-null  bool   \n",
      " 21  region_lower                    12280 non-null  bool   \n",
      " 22  region_medium                   12280 non-null  bool   \n",
      " 23  total_bc_attempts               12280 non-null  int64  \n",
      " 24  total_bc_outcomes               12280 non-null  int64  \n",
      " 25  lead_to_first_bc_days           12280 non-null  float64\n",
      " 26  bc_duration_days                12280 non-null  float64\n",
      " 27  bc_frequency                    12280 non-null  float64\n",
      " 28  positive_outcomes_count         12280 non-null  int64  \n",
      " 29  negative_outcomes_count         12280 non-null  int64  \n",
      " 30  noshow_outcomes_count           12280 non-null  int64  \n",
      " 31  positive_outcome_ratio          12280 non-null  float64\n",
      " 32  negative_outcome_ratio          12280 non-null  float64\n",
      " 33  noshow_outcome_ratio            12280 non-null  float64\n",
      " 34  reachability_score              12280 non-null  float64\n",
      " 35  outcome_trend                   12280 non-null  int64  \n",
      " 36  persistence_after_negative      12280 non-null  int64  \n",
      " 37  engagement_score                12280 non-null  float64\n",
      " 38  efficiency_score                12280 non-null  float64\n",
      " 39  last_bc_outcome_encoded         12280 non-null  int64  \n",
      " 40  first_bc_outcome_encoded        12280 non-null  int64  \n",
      "dtypes: bool(7), float64(15), int64(19)\n",
      "memory usage: 3.4 MB\n"
     ]
    },
    {
     "data": {
      "text/plain": [
       "grosscontractsigned\n",
       "0.0    10109\n",
       "1.0     2171\n",
       "Name: count, dtype: int64"
      ]
     },
     "execution_count": 11,
     "metadata": {},
     "output_type": "execute_result"
    }
   ],
   "source": [
    "df.info()\n",
    "df[\"grosscontractsigned\"].value_counts()"
   ]
  },
  {
   "cell_type": "code",
   "execution_count": 12,
   "id": "e670d71d",
   "metadata": {},
   "outputs": [
    {
     "name": "stdout",
     "output_type": "stream",
     "text": [
      "Dataset saved successfully!\n"
     ]
    }
   ],
   "source": [
    "# only made it to net sc \n",
    "# Save your merged dataframe\n",
    "df.to_csv('processed_data/merged_df_net_sc.csv', index=False)\n",
    "\n",
    "print(\"Dataset saved successfully!\")"
   ]
  }
 ],
 "metadata": {
  "kernelspec": {
   "display_name": ".venv",
   "language": "python",
   "name": "python3"
  },
  "language_info": {
   "codemirror_mode": {
    "name": "ipython",
    "version": 3
   },
   "file_extension": ".py",
   "mimetype": "text/x-python",
   "name": "python",
   "nbconvert_exporter": "python",
   "pygments_lexer": "ipython3",
   "version": "3.11.0"
  }
 },
 "nbformat": 4,
 "nbformat_minor": 5
}
