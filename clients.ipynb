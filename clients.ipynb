{
 "cells": [
  {
   "cell_type": "markdown",
   "id": "91c3ddb4",
   "metadata": {},
   "source": [
    "Initial Analysis and Preperation of Clients\n",
    "All info on subject table between 1/3/2025- 15/06/2025"
   ]
  },
  {
   "cell_type": "code",
   "execution_count": 1,
   "id": "b7ea15e4",
   "metadata": {},
   "outputs": [],
   "source": [
    "import pandas as pd\n",
    "\n",
    "csv_path = r\"C:\\Users\\ElifYilmaz\\OneDrive - Enpal B.V\\Desktop\\Files For Project\\subjects.csv\"\n",
    "\n",
    "df = pd.read_csv(csv_path)\n",
    "\n",
    "#print(df.head())\n"
   ]
  },
  {
   "cell_type": "code",
   "execution_count": 2,
   "id": "22c0571d",
   "metadata": {},
   "outputs": [
    {
     "name": "stdout",
     "output_type": "stream",
     "text": [
      "<class 'pandas.core.frame.DataFrame'>\n",
      "RangeIndex: 21513 entries, 0 to 21512\n",
      "Data columns (total 59 columns):\n",
      " #   Column                       Non-Null Count  Dtype  \n",
      "---  ------                       --------------  -----  \n",
      " 0   CREATEDAT                    21513 non-null  object \n",
      " 1   UPDATEDAT                    21513 non-null  object \n",
      " 2   ID                           21513 non-null  int64  \n",
      " 3   NAME                         20906 non-null  object \n",
      " 4   SURNAME                      20488 non-null  object \n",
      " 5   TELEPHONE1                   21513 non-null  object \n",
      " 6   EMAIL                        21419 non-null  object \n",
      " 7   STREETNAME                   1252 non-null   object \n",
      " 8   STREETNUMBER                 1247 non-null   object \n",
      " 9   CITY                         1252 non-null   object \n",
      " 10  PROVINCE                     1208 non-null   object \n",
      " 11  STATE                        97 non-null     object \n",
      " 12  ZIP                          1230 non-null   float64\n",
      " 13  COUNTRY                      17412 non-null  object \n",
      " 14  GENDER                       3984 non-null   object \n",
      " 15  FISCALCODE                   1494 non-null   object \n",
      " 16  REGION                       1236 non-null   object \n",
      " 17  BIRTHDATE                    1493 non-null   object \n",
      " 18  BIRTHCITY                    1104 non-null   object \n",
      " 19  BIRTHPROVINCE                233 non-null    object \n",
      " 20  CITINZESHIP                  0 non-null      float64\n",
      " 21  DOCUMENTNUMBER               230 non-null    object \n",
      " 22  IBAN                         228 non-null    object \n",
      " 23  MAXLOANBILLVALUE             1367 non-null   float64\n",
      " 24  MAXLOANBILLNOTES             1367 non-null   object \n",
      " 25  MAXLOANDURATION              1367 non-null   float64\n",
      " 26  MAXLOANIMPORTEDAT            1367 non-null   object \n",
      " 27  PHONENUMBERS                 0 non-null      float64\n",
      " 28  TOBECALLED                   21061 non-null  object \n",
      " 29  CALLATTEMPTSNUMBER           21223 non-null  float64\n",
      " 30  CANCALLFROM                  13228 non-null  object \n",
      " 31  LASTCALLATTEMPTAT            0 non-null      float64\n",
      " 32  SCOREBC                      20768 non-null  float64\n",
      " 33  ISFIELDCUSTOMER              0 non-null      float64\n",
      " 34  FIELDSALESAGENTEMAIL         0 non-null      float64\n",
      " 35  MANUALLYCREATEDBY            129 non-null    float64\n",
      " 36  MAXLOANBILLVALUECOOWNER      0 non-null      float64\n",
      " 37  MAXLOANBILLNOTESCOOWNER      0 non-null      float64\n",
      " 38  MAXLOANDURATIONCOOWNER       0 non-null      float64\n",
      " 39  OLDLEADREASSIGNED            21513 non-null  bool   \n",
      " 40  RESIDENCYPLACECADASTRALCODE  968 non-null    object \n",
      " 41  BIRTHCOUNTRY                 968 non-null    object \n",
      " 42  BIRTHPLACECADASTRALCODE      1367 non-null   object \n",
      " 43  CITIZENSHIP                  1097 non-null   object \n",
      " 44  ISSECONDLOSTEMAILSENT        21513 non-null  bool   \n",
      " 45  OUTBOUNDFLOW                 1471 non-null   object \n",
      " 46  REFERRALEMAIL                66 non-null     object \n",
      " 47  CREATEDATPRELOAN             968 non-null    object \n",
      " 48  REFERRALSUBJECTID            70 non-null     float64\n",
      " 49  SELLERPRELOAN                766 non-null    object \n",
      " 50  DISPATCHERQUEUE              17582 non-null  object \n",
      " 51  MISSEDCALLSNUMBER            18054 non-null  float64\n",
      " 52  ISLOANFORMCOMPLETED          968 non-null    object \n",
      " 53  COMPLETEPRELOANFORMLINK      463 non-null    object \n",
      " 54  FIRSTVDFROMQUOTATIONONLY     53 non-null     object \n",
      " 55  TELEPHONE2                   19 non-null     float64\n",
      " 56  OWNERORGANIZATIONID          21513 non-null  int64  \n",
      " 57  PARTNERSALESAGENTID          12 non-null     float64\n",
      " 58  ZIPREGION                    20835 non-null  object \n",
      "dtypes: bool(2), float64(18), int64(2), object(37)\n",
      "memory usage: 9.4+ MB\n"
     ]
    }
   ],
   "source": [
    "df.info()\n"
   ]
  },
  {
   "cell_type": "code",
   "execution_count": 3,
   "id": "c0b5d2dc",
   "metadata": {},
   "outputs": [],
   "source": [
    "#removing very little variance manually\n",
    "# not sure this is a great way tbh\n",
    "\n",
    "#find values\n",
    "unique_counts = df.nunique().to_dict()\n",
    "\n",
    "\n",
    "l1 = []\n",
    "for i, y in unique_counts.items():\n",
    "    if y < 15:\n",
    "      l1 += [i]\n",
    "#print(l1)\n",
    "\n",
    "df.drop(columns = l1, inplace = True)\n"
   ]
  },
  {
   "cell_type": "code",
   "execution_count": 4,
   "id": "db669c97",
   "metadata": {},
   "outputs": [
    {
     "name": "stdout",
     "output_type": "stream",
     "text": [
      "21513\n",
      "21513\n"
     ]
    }
   ],
   "source": [
    "\n",
    "#grabbing 0.05 of the max value\n",
    "x =df.count()\n",
    "type(x)\n",
    "f = 0\n",
    "for i, y in x.items():\n",
    "    if y > f :\n",
    "        f = y\n",
    "    else:\n",
    "        continue\n",
    "\n",
    "y = (max(x.values))\n",
    "print(y)\n",
    "threshold = int(y*0.05)\n",
    "print(f)\n"
   ]
  },
  {
   "cell_type": "code",
   "execution_count": 5,
   "id": "0e5e3486",
   "metadata": {},
   "outputs": [
    {
     "name": "stdout",
     "output_type": "stream",
     "text": [
      "['BIRTHPROVINCE', 'DOCUMENTNUMBER', 'IBAN', 'MANUALLYCREATEDBY', 'RESIDENCYPLACECADASTRALCODE', 'BIRTHCOUNTRY', 'REFERRALEMAIL', 'CREATEDATPRELOAN', 'REFERRALSUBJECTID', 'SELLERPRELOAN', 'COMPLETEPRELOANFORMLINK']\n"
     ]
    }
   ],
   "source": [
    "#marking less than threshold\n",
    "l2 = []\n",
    "for g, y in x.items():\n",
    "    if y < threshold:\n",
    "        l2.append(g)\n",
    "\n",
    "print(l2)"
   ]
  },
  {
   "cell_type": "code",
   "execution_count": 6,
   "id": "0492db0e",
   "metadata": {},
   "outputs": [],
   "source": [
    "# drop unwanted\n",
    "df.drop(columns= l2, inplace=True)"
   ]
  },
  {
   "cell_type": "code",
   "execution_count": null,
   "id": "31220bf6",
   "metadata": {},
   "outputs": [],
   "source": []
  },
  {
   "cell_type": "markdown",
   "id": "812ac898",
   "metadata": {},
   "source": [
    "later write a function that checks the len of each column, and deletesone that has < 5% of the max len.\n",
    "for i in df.columns:\n",
    "    if len(df[i]) < 555:\n",
    "        print (i)"
   ]
  },
  {
   "cell_type": "code",
   "execution_count": 7,
   "id": "ed7b2f14",
   "metadata": {},
   "outputs": [],
   "source": [
    "#convert to datetime\n",
    "date_cols = [\n",
    "    \"CREATEDAT\", \"UPDATEDAT\", \"BIRTHDATE\",\n",
    "    \"MAXLOANIMPORTEDAT\"\n",
    "]\n",
    "for col in date_cols:\n",
    "    df[col] = pd.to_datetime(df[col], errors=\"coerce\")\n"
   ]
  },
  {
   "cell_type": "markdown",
   "id": "0c98f21e",
   "metadata": {},
   "source": [
    "#mark unknown the geography nulls\n",
    "for col in [\"CITY\", \"PROVINCE\", \"REGION\"]:\n",
    "    df[col] = df[col].fillna(\"Unknown\")\n"
   ]
  },
  {
   "cell_type": "code",
   "execution_count": 8,
   "id": "aceaff29",
   "metadata": {},
   "outputs": [
    {
     "name": "stdout",
     "output_type": "stream",
     "text": [
      "<class 'pandas.core.frame.DataFrame'>\n",
      "RangeIndex: 21513 entries, 0 to 21512\n",
      "Data columns (total 26 columns):\n",
      " #   Column                   Non-Null Count  Dtype         \n",
      "---  ------                   --------------  -----         \n",
      " 0   CREATEDAT                21513 non-null  datetime64[ns]\n",
      " 1   UPDATEDAT                21513 non-null  datetime64[ns]\n",
      " 2   ID                       21513 non-null  int64         \n",
      " 3   NAME                     20906 non-null  object        \n",
      " 4   SURNAME                  20488 non-null  object        \n",
      " 5   TELEPHONE1               21513 non-null  object        \n",
      " 6   EMAIL                    21419 non-null  object        \n",
      " 7   STREETNAME               1252 non-null   object        \n",
      " 8   STREETNUMBER             1247 non-null   object        \n",
      " 9   CITY                     1252 non-null   object        \n",
      " 10  PROVINCE                 1208 non-null   object        \n",
      " 11  ZIP                      1230 non-null   float64       \n",
      " 12  FISCALCODE               1494 non-null   object        \n",
      " 13  REGION                   1236 non-null   object        \n",
      " 14  BIRTHDATE                1492 non-null   datetime64[ns]\n",
      " 15  BIRTHCITY                1104 non-null   object        \n",
      " 16  MAXLOANBILLVALUE         1367 non-null   float64       \n",
      " 17  MAXLOANDURATION          1367 non-null   float64       \n",
      " 18  MAXLOANIMPORTEDAT        1367 non-null   datetime64[ns]\n",
      " 19  CALLATTEMPTSNUMBER       21223 non-null  float64       \n",
      " 20  CANCALLFROM              13228 non-null  object        \n",
      " 21  SCOREBC                  20768 non-null  float64       \n",
      " 22  BIRTHPLACECADASTRALCODE  1367 non-null   object        \n",
      " 23  CITIZENSHIP              1097 non-null   object        \n",
      " 24  OUTBOUNDFLOW             1471 non-null   object        \n",
      " 25  ZIPREGION                20835 non-null  object        \n",
      "dtypes: datetime64[ns](4), float64(5), int64(1), object(16)\n",
      "memory usage: 4.3+ MB\n"
     ]
    }
   ],
   "source": [
    "df.info()"
   ]
  },
  {
   "cell_type": "code",
   "execution_count": null,
   "id": "e23b9a49",
   "metadata": {},
   "outputs": [],
   "source": []
  },
  {
   "cell_type": "code",
   "execution_count": 9,
   "id": "87fed59c",
   "metadata": {},
   "outputs": [],
   "source": [
    "# drop unrelated manually\n",
    "to_drop = [\n",
    "    \"UPDATEDAT\", \"EMAIL\", \"NAME\",\n",
    "    \"SURNAME\", \"STREETNAME\",\n",
    "    \"STREETNUMBER\", \n",
    "     \"FISCALCODE\",  \"CANCALLFROM\",\n",
    "   \"OUTBOUNDFLOW\",\n",
    "    \"TELEPHONE1\",  \"ZIP\", \"MAXLOANIMPORTEDAT\", \"BIRTHPLACECADASTRALCODE\", \"REGION\", \"CITIZENSHIP\", \"CITY\", \"PROVINCE\", \"BIRTHCITY\"\n",
    "    \n",
    "    \n",
    "]\n",
    "df.drop(columns=to_drop, inplace=True)"
   ]
  },
  {
   "cell_type": "code",
   "execution_count": 10,
   "id": "a13096e7",
   "metadata": {},
   "outputs": [
    {
     "name": "stdout",
     "output_type": "stream",
     "text": [
      "<class 'pandas.core.frame.DataFrame'>\n",
      "RangeIndex: 21513 entries, 0 to 21512\n",
      "Data columns (total 8 columns):\n",
      " #   Column              Non-Null Count  Dtype         \n",
      "---  ------              --------------  -----         \n",
      " 0   CREATEDAT           21513 non-null  datetime64[ns]\n",
      " 1   ID                  21513 non-null  int64         \n",
      " 2   BIRTHDATE           1492 non-null   datetime64[ns]\n",
      " 3   MAXLOANBILLVALUE    1367 non-null   float64       \n",
      " 4   MAXLOANDURATION     1367 non-null   float64       \n",
      " 5   CALLATTEMPTSNUMBER  21223 non-null  float64       \n",
      " 6   SCOREBC             20768 non-null  float64       \n",
      " 7   ZIPREGION           20835 non-null  object        \n",
      "dtypes: datetime64[ns](2), float64(4), int64(1), object(1)\n",
      "memory usage: 1.3+ MB\n"
     ]
    }
   ],
   "source": [
    "df.info()"
   ]
  },
  {
   "cell_type": "markdown",
   "id": "5f03027d",
   "metadata": {},
   "source": [
    "Feature engineering WOO\n",
    "\n"
   ]
  },
  {
   "cell_type": "markdown",
   "id": "e305e5d0",
   "metadata": {},
   "source": [
    "great. see if theres any way to recover data from other tables (request?)\n",
    "f e geography through buildind but probably onl the ones that went ahead\n",
    "Would be cool to grab birthdate"
   ]
  },
  {
   "cell_type": "markdown",
   "id": "d3386d82",
   "metadata": {},
   "source": [
    "With this very scarse info on clients, most of the analysis will be based on the activities (calls, respond behaviour etc)\n",
    "How about an ETA about that at the beginning\n"
   ]
  },
  {
   "cell_type": "markdown",
   "id": "b5368e1d",
   "metadata": {},
   "source": [
    "i dont think lead can be used to add more info to subject; as subject is taken form there. but for inconsistencies or several leads etc i can still run a match to recover\n",
    "building might give city \n",
    "contract could give age, but we have only for signed ones lol \n",
    "do i even consider recessi"
   ]
  }
 ],
 "metadata": {
  "kernelspec": {
   "display_name": ".venv",
   "language": "python",
   "name": "python3"
  },
  "language_info": {
   "codemirror_mode": {
    "name": "ipython",
    "version": 3
   },
   "file_extension": ".py",
   "mimetype": "text/x-python",
   "name": "python",
   "nbconvert_exporter": "python",
   "pygments_lexer": "ipython3",
   "version": "3.11.0"
  }
 },
 "nbformat": 4,
 "nbformat_minor": 5
}
